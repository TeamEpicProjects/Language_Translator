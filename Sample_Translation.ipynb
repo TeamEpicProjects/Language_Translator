{
  "nbformat": 4,
  "nbformat_minor": 0,
  "metadata": {
    "colab": {
      "name": "Sample_Translation",
      "provenance": [],
      "collapsed_sections": []
    },
    "kernelspec": {
      "name": "python3",
      "display_name": "Python 3"
    },
    "language_info": {
      "name": "python"
    },
    "accelerator": "GPU"
  },
  "cells": [
    {
      "cell_type": "markdown",
      "metadata": {
        "id": "5dIxI31QF_Fx"
      },
      "source": [
        "# Sample Translation\n",
        "\n",
        "Here, we first clone github repository to use IndicTRANS model, preprocess the story according to the model need and try to translate one story of मुंशी प्रेमचन्द into english."
      ]
    },
    {
      "cell_type": "markdown",
      "metadata": {
        "id": "H6jxP8ePGloZ"
      },
      "source": [
        "## General setup for the model\n",
        "\n",
        "Just run this snippet only once and then restart the runtime."
      ]
    },
    {
      "cell_type": "code",
      "metadata": {
        "colab": {
          "base_uri": "https://localhost:8080/"
        },
        "id": "Pr5fOD4g7u-y",
        "outputId": "55d7f951-6653-4060-ee66-5e57763593d0"
      },
      "source": [
        "# clone the repo for running evaluation\n",
        "!git clone https://github.com/AI4Bharat/indicTrans.git\n",
        "%cd indicTrans\n",
        "# clone requirements repositories\n",
        "!git clone https://github.com/anoopkunchukuttan/indic_nlp_library.git\n",
        "!git clone https://github.com/anoopkunchukuttan/indic_nlp_resources.git\n",
        "!git clone https://github.com/rsennrich/subword-nmt.git\n",
        "%cd .."
      ],
      "execution_count": 1,
      "outputs": [
        {
          "output_type": "stream",
          "name": "stdout",
          "text": [
            "Cloning into 'indicTrans'...\n",
            "remote: Enumerating objects: 503, done.\u001b[K\n",
            "remote: Counting objects: 100% (206/206), done.\u001b[K\n",
            "remote: Compressing objects: 100% (87/87), done.\u001b[K\n",
            "remote: Total 503 (delta 163), reused 132 (delta 118), pack-reused 297\u001b[K\n",
            "Receiving objects: 100% (503/503), 1.49 MiB | 9.96 MiB/s, done.\n",
            "Resolving deltas: 100% (290/290), done.\n",
            "/content/indicTrans\n",
            "Cloning into 'indic_nlp_library'...\n",
            "remote: Enumerating objects: 1325, done.\u001b[K\n",
            "remote: Counting objects: 100% (147/147), done.\u001b[K\n",
            "remote: Compressing objects: 100% (103/103), done.\u001b[K\n",
            "remote: Total 1325 (delta 84), reused 89 (delta 41), pack-reused 1178\u001b[K\n",
            "Receiving objects: 100% (1325/1325), 9.57 MiB | 11.42 MiB/s, done.\n",
            "Resolving deltas: 100% (688/688), done.\n",
            "Cloning into 'indic_nlp_resources'...\n",
            "remote: Enumerating objects: 139, done.\u001b[K\n",
            "remote: Counting objects: 100% (13/13), done.\u001b[K\n",
            "remote: Compressing objects: 100% (13/13), done.\u001b[K\n",
            "remote: Total 139 (delta 2), reused 2 (delta 0), pack-reused 126\u001b[K\n",
            "Receiving objects: 100% (139/139), 149.77 MiB | 34.00 MiB/s, done.\n",
            "Resolving deltas: 100% (53/53), done.\n",
            "Checking out files: 100% (28/28), done.\n",
            "Cloning into 'subword-nmt'...\n",
            "remote: Enumerating objects: 580, done.\u001b[K\n",
            "remote: Counting objects: 100% (4/4), done.\u001b[K\n",
            "remote: Compressing objects: 100% (4/4), done.\u001b[K\n",
            "remote: Total 580 (delta 0), reused 1 (delta 0), pack-reused 576\u001b[K\n",
            "Receiving objects: 100% (580/580), 237.41 KiB | 2.42 MiB/s, done.\n",
            "Resolving deltas: 100% (349/349), done.\n",
            "/content\n"
          ]
        }
      ]
    },
    {
      "cell_type": "code",
      "metadata": {
        "colab": {
          "base_uri": "https://localhost:8080/"
        },
        "id": "5k2N2zIw76lj",
        "outputId": "ea7693cf-dc04-4fea-c58f-304b9fd5951f"
      },
      "source": [
        "# Install the necessary libraries\n",
        "!pip install sacremoses pandas mock sacrebleu tensorboardX pyarrow indic-nlp-library\n",
        "! pip install mosestokenizer subword-nmt\n",
        "# Install fairseq from source\n",
        "!git clone https://github.com/pytorch/fairseq.git\n",
        "%cd fairseq\n",
        "# !git checkout da9eaba12d82b9bfc1442f0e2c6fc1b895f4d35d\n",
        "!pip install --editable ./\n",
        "\n",
        "%cd .."
      ],
      "execution_count": 2,
      "outputs": [
        {
          "output_type": "stream",
          "name": "stdout",
          "text": [
            "Collecting sacremoses\n",
            "  Downloading sacremoses-0.0.46-py3-none-any.whl (895 kB)\n",
            "\u001b[K     |████████████████████████████████| 895 kB 5.3 MB/s \n",
            "\u001b[?25hRequirement already satisfied: pandas in /usr/local/lib/python3.7/dist-packages (1.1.5)\n",
            "Collecting mock\n",
            "  Downloading mock-4.0.3-py3-none-any.whl (28 kB)\n",
            "Collecting sacrebleu\n",
            "  Downloading sacrebleu-2.0.0-py3-none-any.whl (90 kB)\n",
            "\u001b[K     |████████████████████████████████| 90 kB 9.0 MB/s \n",
            "\u001b[?25hCollecting tensorboardX\n",
            "  Downloading tensorboardX-2.4-py2.py3-none-any.whl (124 kB)\n",
            "\u001b[K     |████████████████████████████████| 124 kB 67.2 MB/s \n",
            "\u001b[?25hRequirement already satisfied: pyarrow in /usr/local/lib/python3.7/dist-packages (3.0.0)\n",
            "Collecting indic-nlp-library\n",
            "  Downloading indic_nlp_library-0.81-py3-none-any.whl (40 kB)\n",
            "\u001b[K     |████████████████████████████████| 40 kB 4.6 MB/s \n",
            "\u001b[?25hRequirement already satisfied: regex in /usr/local/lib/python3.7/dist-packages (from sacremoses) (2019.12.20)\n",
            "Requirement already satisfied: joblib in /usr/local/lib/python3.7/dist-packages (from sacremoses) (1.0.1)\n",
            "Requirement already satisfied: tqdm in /usr/local/lib/python3.7/dist-packages (from sacremoses) (4.62.2)\n",
            "Requirement already satisfied: click in /usr/local/lib/python3.7/dist-packages (from sacremoses) (7.1.2)\n",
            "Requirement already satisfied: six in /usr/local/lib/python3.7/dist-packages (from sacremoses) (1.15.0)\n",
            "Requirement already satisfied: pytz>=2017.2 in /usr/local/lib/python3.7/dist-packages (from pandas) (2018.9)\n",
            "Requirement already satisfied: python-dateutil>=2.7.3 in /usr/local/lib/python3.7/dist-packages (from pandas) (2.8.2)\n",
            "Requirement already satisfied: numpy>=1.15.4 in /usr/local/lib/python3.7/dist-packages (from pandas) (1.19.5)\n",
            "Collecting portalocker\n",
            "  Downloading portalocker-2.3.2-py2.py3-none-any.whl (15 kB)\n",
            "Collecting colorama\n",
            "  Downloading colorama-0.4.4-py2.py3-none-any.whl (16 kB)\n",
            "Requirement already satisfied: tabulate>=0.8.9 in /usr/local/lib/python3.7/dist-packages (from sacrebleu) (0.8.9)\n",
            "Requirement already satisfied: protobuf>=3.8.0 in /usr/local/lib/python3.7/dist-packages (from tensorboardX) (3.17.3)\n",
            "Collecting morfessor\n",
            "  Downloading Morfessor-2.0.6-py3-none-any.whl (35 kB)\n",
            "Collecting sphinx-rtd-theme\n",
            "  Downloading sphinx_rtd_theme-1.0.0-py2.py3-none-any.whl (2.8 MB)\n",
            "\u001b[K     |████████████████████████████████| 2.8 MB 48.0 MB/s \n",
            "\u001b[?25hCollecting sphinx-argparse\n",
            "  Downloading sphinx_argparse-0.3.1-py2.py3-none-any.whl (12 kB)\n",
            "Requirement already satisfied: sphinx>=1.2.0 in /usr/local/lib/python3.7/dist-packages (from sphinx-argparse->indic-nlp-library) (1.8.5)\n",
            "Requirement already satisfied: alabaster<0.8,>=0.7 in /usr/local/lib/python3.7/dist-packages (from sphinx>=1.2.0->sphinx-argparse->indic-nlp-library) (0.7.12)\n",
            "Requirement already satisfied: docutils>=0.11 in /usr/local/lib/python3.7/dist-packages (from sphinx>=1.2.0->sphinx-argparse->indic-nlp-library) (0.17.1)\n",
            "Requirement already satisfied: requests>=2.0.0 in /usr/local/lib/python3.7/dist-packages (from sphinx>=1.2.0->sphinx-argparse->indic-nlp-library) (2.23.0)\n",
            "Requirement already satisfied: imagesize in /usr/local/lib/python3.7/dist-packages (from sphinx>=1.2.0->sphinx-argparse->indic-nlp-library) (1.2.0)\n",
            "Requirement already satisfied: Pygments>=2.0 in /usr/local/lib/python3.7/dist-packages (from sphinx>=1.2.0->sphinx-argparse->indic-nlp-library) (2.6.1)\n",
            "Requirement already satisfied: sphinxcontrib-websupport in /usr/local/lib/python3.7/dist-packages (from sphinx>=1.2.0->sphinx-argparse->indic-nlp-library) (1.2.4)\n",
            "Requirement already satisfied: snowballstemmer>=1.1 in /usr/local/lib/python3.7/dist-packages (from sphinx>=1.2.0->sphinx-argparse->indic-nlp-library) (2.1.0)\n",
            "Requirement already satisfied: babel!=2.0,>=1.3 in /usr/local/lib/python3.7/dist-packages (from sphinx>=1.2.0->sphinx-argparse->indic-nlp-library) (2.9.1)\n",
            "Requirement already satisfied: setuptools in /usr/local/lib/python3.7/dist-packages (from sphinx>=1.2.0->sphinx-argparse->indic-nlp-library) (57.4.0)\n",
            "Requirement already satisfied: packaging in /usr/local/lib/python3.7/dist-packages (from sphinx>=1.2.0->sphinx-argparse->indic-nlp-library) (21.0)\n",
            "Requirement already satisfied: Jinja2>=2.3 in /usr/local/lib/python3.7/dist-packages (from sphinx>=1.2.0->sphinx-argparse->indic-nlp-library) (2.11.3)\n",
            "Requirement already satisfied: MarkupSafe>=0.23 in /usr/local/lib/python3.7/dist-packages (from Jinja2>=2.3->sphinx>=1.2.0->sphinx-argparse->indic-nlp-library) (2.0.1)\n",
            "Requirement already satisfied: certifi>=2017.4.17 in /usr/local/lib/python3.7/dist-packages (from requests>=2.0.0->sphinx>=1.2.0->sphinx-argparse->indic-nlp-library) (2021.5.30)\n",
            "Requirement already satisfied: chardet<4,>=3.0.2 in /usr/local/lib/python3.7/dist-packages (from requests>=2.0.0->sphinx>=1.2.0->sphinx-argparse->indic-nlp-library) (3.0.4)\n",
            "Requirement already satisfied: idna<3,>=2.5 in /usr/local/lib/python3.7/dist-packages (from requests>=2.0.0->sphinx>=1.2.0->sphinx-argparse->indic-nlp-library) (2.10)\n",
            "Requirement already satisfied: urllib3!=1.25.0,!=1.25.1,<1.26,>=1.21.1 in /usr/local/lib/python3.7/dist-packages (from requests>=2.0.0->sphinx>=1.2.0->sphinx-argparse->indic-nlp-library) (1.24.3)\n",
            "Requirement already satisfied: pyparsing>=2.0.2 in /usr/local/lib/python3.7/dist-packages (from packaging->sphinx>=1.2.0->sphinx-argparse->indic-nlp-library) (2.4.7)\n",
            "Requirement already satisfied: sphinxcontrib-serializinghtml in /usr/local/lib/python3.7/dist-packages (from sphinxcontrib-websupport->sphinx>=1.2.0->sphinx-argparse->indic-nlp-library) (1.1.5)\n",
            "Installing collected packages: sphinx-rtd-theme, sphinx-argparse, portalocker, morfessor, colorama, tensorboardX, sacremoses, sacrebleu, mock, indic-nlp-library\n",
            "Successfully installed colorama-0.4.4 indic-nlp-library-0.81 mock-4.0.3 morfessor-2.0.6 portalocker-2.3.2 sacrebleu-2.0.0 sacremoses-0.0.46 sphinx-argparse-0.3.1 sphinx-rtd-theme-1.0.0 tensorboardX-2.4\n",
            "Collecting mosestokenizer\n",
            "  Downloading mosestokenizer-1.1.0.tar.gz (37 kB)\n",
            "Collecting subword-nmt\n",
            "  Downloading subword_nmt-0.3.7-py2.py3-none-any.whl (26 kB)\n",
            "Requirement already satisfied: docopt in /usr/local/lib/python3.7/dist-packages (from mosestokenizer) (0.6.2)\n",
            "Collecting openfile\n",
            "  Downloading openfile-0.0.7-py3-none-any.whl (2.4 kB)\n",
            "Collecting uctools\n",
            "  Downloading uctools-1.3.0.tar.gz (4.6 kB)\n",
            "Collecting toolwrapper\n",
            "  Downloading toolwrapper-2.1.0.tar.gz (3.2 kB)\n",
            "Building wheels for collected packages: mosestokenizer, toolwrapper, uctools\n",
            "  Building wheel for mosestokenizer (setup.py) ... \u001b[?25l\u001b[?25hdone\n",
            "  Created wheel for mosestokenizer: filename=mosestokenizer-1.1.0-py3-none-any.whl size=49117 sha256=66ba8720bdcb986d7c82cec3e839c9a014021c8de7a83aef2ca48f4b0d87bf04\n",
            "  Stored in directory: /root/.cache/pip/wheels/a7/31/94/fef279382208e85a65c1a7f5c4d0020115477b0af74f296b57\n",
            "  Building wheel for toolwrapper (setup.py) ... \u001b[?25l\u001b[?25hdone\n",
            "  Created wheel for toolwrapper: filename=toolwrapper-2.1.0-py3-none-any.whl size=3354 sha256=94e6c70104d61c03bc68bb3a763375d81e1702562c49176a879846acf64a421e\n",
            "  Stored in directory: /root/.cache/pip/wheels/c5/4f/33/54741ffe08e38ececb1d28068a153729b4fe820bafa0a0691f\n",
            "  Building wheel for uctools (setup.py) ... \u001b[?25l\u001b[?25hdone\n",
            "  Created wheel for uctools: filename=uctools-1.3.0-py3-none-any.whl size=6163 sha256=527b9b83328fd6c81c26bb20fee37aced19d6805eef1976c3f39a004fcb72462\n",
            "  Stored in directory: /root/.cache/pip/wheels/fb/44/e9/914cf8fa71f0141f9314f862538d1218fcf2b94542a0fb7d35\n",
            "Successfully built mosestokenizer toolwrapper uctools\n",
            "Installing collected packages: uctools, toolwrapper, openfile, subword-nmt, mosestokenizer\n",
            "Successfully installed mosestokenizer-1.1.0 openfile-0.0.7 subword-nmt-0.3.7 toolwrapper-2.1.0 uctools-1.3.0\n",
            "Cloning into 'fairseq'...\n",
            "remote: Enumerating objects: 29346, done.\u001b[K\n",
            "remote: Counting objects: 100% (427/427), done.\u001b[K\n",
            "remote: Compressing objects: 100% (328/328), done.\u001b[K\n",
            "remote: Total 29346 (delta 131), reused 296 (delta 89), pack-reused 28919\u001b[K\n",
            "Receiving objects: 100% (29346/29346), 12.66 MiB | 21.53 MiB/s, done.\n",
            "Resolving deltas: 100% (21853/21853), done.\n",
            "/content/fairseq\n",
            "Obtaining file:///content/fairseq\n",
            "  Installing build dependencies ... \u001b[?25l\u001b[?25hdone\n",
            "  Getting requirements to build wheel ... \u001b[?25l\u001b[?25hdone\n",
            "  Installing backend dependencies ... \u001b[?25l\u001b[?25hdone\n",
            "    Preparing wheel metadata ... \u001b[?25l\u001b[?25hdone\n",
            "Collecting omegaconf<2.1\n",
            "  Downloading omegaconf-2.0.6-py3-none-any.whl (36 kB)\n",
            "Requirement already satisfied: cffi in /usr/local/lib/python3.7/dist-packages (from fairseq==1.0.0a0+fcca322) (1.14.6)\n",
            "Collecting hydra-core<1.1,>=1.0.7\n",
            "  Downloading hydra_core-1.0.7-py3-none-any.whl (123 kB)\n",
            "\u001b[K     |████████████████████████████████| 123 kB 7.0 MB/s \n",
            "\u001b[?25hCollecting torchaudio>=0.8.0\n",
            "  Downloading torchaudio-0.9.1-cp37-cp37m-manylinux1_x86_64.whl (1.9 MB)\n",
            "\u001b[K     |████████████████████████████████| 1.9 MB 24.9 MB/s \n",
            "\u001b[?25hRequirement already satisfied: tqdm in /usr/local/lib/python3.7/dist-packages (from fairseq==1.0.0a0+fcca322) (4.62.2)\n",
            "Collecting bitarray\n",
            "  Downloading bitarray-2.3.4.tar.gz (88 kB)\n",
            "\u001b[K     |████████████████████████████████| 88 kB 6.6 MB/s \n",
            "\u001b[?25hRequirement already satisfied: cython in /usr/local/lib/python3.7/dist-packages (from fairseq==1.0.0a0+fcca322) (0.29.24)\n",
            "Requirement already satisfied: regex in /usr/local/lib/python3.7/dist-packages (from fairseq==1.0.0a0+fcca322) (2019.12.20)\n",
            "Requirement already satisfied: sacrebleu>=1.4.12 in /usr/local/lib/python3.7/dist-packages (from fairseq==1.0.0a0+fcca322) (2.0.0)\n",
            "Requirement already satisfied: torch in /usr/local/lib/python3.7/dist-packages (from fairseq==1.0.0a0+fcca322) (1.9.0+cu102)\n",
            "Requirement already satisfied: numpy in /usr/local/lib/python3.7/dist-packages (from fairseq==1.0.0a0+fcca322) (1.19.5)\n",
            "Requirement already satisfied: importlib-resources in /usr/local/lib/python3.7/dist-packages (from hydra-core<1.1,>=1.0.7->fairseq==1.0.0a0+fcca322) (5.2.2)\n",
            "Collecting antlr4-python3-runtime==4.8\n",
            "  Downloading antlr4-python3-runtime-4.8.tar.gz (112 kB)\n",
            "\u001b[K     |████████████████████████████████| 112 kB 54.7 MB/s \n",
            "\u001b[?25hCollecting PyYAML>=5.1.*\n",
            "  Downloading PyYAML-5.4.1-cp37-cp37m-manylinux1_x86_64.whl (636 kB)\n",
            "\u001b[K     |████████████████████████████████| 636 kB 40.5 MB/s \n",
            "\u001b[?25hRequirement already satisfied: typing-extensions in /usr/local/lib/python3.7/dist-packages (from omegaconf<2.1->fairseq==1.0.0a0+fcca322) (3.7.4.3)\n",
            "Requirement already satisfied: colorama in /usr/local/lib/python3.7/dist-packages (from sacrebleu>=1.4.12->fairseq==1.0.0a0+fcca322) (0.4.4)\n",
            "Requirement already satisfied: tabulate>=0.8.9 in /usr/local/lib/python3.7/dist-packages (from sacrebleu>=1.4.12->fairseq==1.0.0a0+fcca322) (0.8.9)\n",
            "Requirement already satisfied: portalocker in /usr/local/lib/python3.7/dist-packages (from sacrebleu>=1.4.12->fairseq==1.0.0a0+fcca322) (2.3.2)\n",
            "Collecting torch\n",
            "  Downloading torch-1.9.1-cp37-cp37m-manylinux1_x86_64.whl (831.4 MB)\n",
            "\u001b[K     |████████████████████████████████| 831.4 MB 6.3 kB/s \n",
            "\u001b[?25hRequirement already satisfied: pycparser in /usr/local/lib/python3.7/dist-packages (from cffi->fairseq==1.0.0a0+fcca322) (2.20)\n",
            "Requirement already satisfied: zipp>=3.1.0 in /usr/local/lib/python3.7/dist-packages (from importlib-resources->hydra-core<1.1,>=1.0.7->fairseq==1.0.0a0+fcca322) (3.5.0)\n",
            "Building wheels for collected packages: antlr4-python3-runtime, bitarray\n",
            "  Building wheel for antlr4-python3-runtime (setup.py) ... \u001b[?25l\u001b[?25hdone\n",
            "  Created wheel for antlr4-python3-runtime: filename=antlr4_python3_runtime-4.8-py3-none-any.whl size=141230 sha256=1d1cbf0801a51902e440a2d744eb715914a58a211d1dce45139342081ef1bb05\n",
            "  Stored in directory: /root/.cache/pip/wheels/ca/33/b7/336836125fc9bb4ceaa4376d8abca10ca8bc84ddc824baea6c\n",
            "  Building wheel for bitarray (setup.py) ... \u001b[?25l\u001b[?25hdone\n",
            "  Created wheel for bitarray: filename=bitarray-2.3.4-cp37-cp37m-linux_x86_64.whl size=171949 sha256=ece53bf67c7af9257f5cee9f27581075758c675e8a078173e3758d969b9a87a0\n",
            "  Stored in directory: /root/.cache/pip/wheels/84/cc/5b/0e861bdb5294d22d2d4f595df936f964a95258387e11494d41\n",
            "Successfully built antlr4-python3-runtime bitarray\n",
            "Installing collected packages: PyYAML, torch, omegaconf, antlr4-python3-runtime, torchaudio, hydra-core, bitarray, fairseq\n",
            "  Attempting uninstall: PyYAML\n",
            "    Found existing installation: PyYAML 3.13\n",
            "    Uninstalling PyYAML-3.13:\n",
            "      Successfully uninstalled PyYAML-3.13\n",
            "  Attempting uninstall: torch\n",
            "    Found existing installation: torch 1.9.0+cu102\n",
            "    Uninstalling torch-1.9.0+cu102:\n",
            "      Successfully uninstalled torch-1.9.0+cu102\n",
            "  Running setup.py develop for fairseq\n",
            "\u001b[31mERROR: pip's dependency resolver does not currently take into account all the packages that are installed. This behaviour is the source of the following dependency conflicts.\n",
            "torchvision 0.10.0+cu102 requires torch==1.9.0, but you have torch 1.9.1 which is incompatible.\n",
            "torchtext 0.10.0 requires torch==1.9.0, but you have torch 1.9.1 which is incompatible.\u001b[0m\n",
            "Successfully installed PyYAML-5.4.1 antlr4-python3-runtime-4.8 bitarray-2.3.4 fairseq-1.0.0a0+fcca322 hydra-core-1.0.7 omegaconf-2.0.6 torch-1.9.1 torchaudio-0.9.1\n",
            "/content\n"
          ]
        }
      ]
    },
    {
      "cell_type": "markdown",
      "metadata": {
        "id": "Cl19U2YFG4gt"
      },
      "source": [
        "**Restart your runtime and start execution from here on...**"
      ]
    },
    {
      "cell_type": "code",
      "metadata": {
        "id": "Xx6cWu1b87zx"
      },
      "source": [
        "# extra code for colab file (don't run if not working on one)\n",
        "from fairseq import checkpoint_utils, distributed_utils, options, tasks, utils"
      ],
      "execution_count": 1,
      "outputs": []
    },
    {
      "cell_type": "code",
      "metadata": {
        "colab": {
          "base_uri": "https://localhost:8080/"
        },
        "id": "Aats_dBj9Ehu",
        "outputId": "430f015f-efd5-48ac-b789-749c0912c3d1"
      },
      "source": [
        "!wget https://storage.googleapis.com/samanantar-public/V0.2/models/indic-en.zip\n",
        "!unzip indic-en.zip\n",
        "\n",
        "%cd indicTrans"
      ],
      "execution_count": 2,
      "outputs": [
        {
          "output_type": "stream",
          "name": "stdout",
          "text": [
            "--2021-09-25 03:45:46--  https://storage.googleapis.com/samanantar-public/V0.2/models/indic-en.zip\n",
            "Resolving storage.googleapis.com (storage.googleapis.com)... 142.250.125.128, 142.250.136.128, 142.250.148.128, ...\n",
            "Connecting to storage.googleapis.com (storage.googleapis.com)|142.250.125.128|:443... connected.\n",
            "HTTP request sent, awaiting response... 200 OK\n",
            "Length: 4551079075 (4.2G) [application/zip]\n",
            "Saving to: ‘indic-en.zip’\n",
            "\n",
            "indic-en.zip        100%[===================>]   4.24G  42.1MB/s    in 78s     \n",
            "\n",
            "2021-09-25 03:47:04 (55.3 MB/s) - ‘indic-en.zip’ saved [4551079075/4551079075]\n",
            "\n",
            "Archive:  indic-en.zip\n",
            "   creating: indic-en/\n",
            "   creating: indic-en/vocab/\n",
            "  inflating: indic-en/vocab/bpe_codes.32k.SRC  \n",
            "  inflating: indic-en/vocab/vocab.SRC  \n",
            "  inflating: indic-en/vocab/vocab.TGT  \n",
            "  inflating: indic-en/vocab/bpe_codes.32k.TGT  \n",
            "   creating: indic-en/final_bin/\n",
            "  inflating: indic-en/final_bin/dict.TGT.txt  \n",
            "  inflating: indic-en/final_bin/dict.SRC.txt  \n",
            "   creating: indic-en/model/\n",
            "  inflating: indic-en/model/checkpoint_best.pt  \n",
            "/content/indicTrans\n"
          ]
        }
      ]
    },
    {
      "cell_type": "code",
      "metadata": {
        "colab": {
          "base_uri": "https://localhost:8080/"
        },
        "id": "VgOkV42I9V5Y",
        "outputId": "0cd2adb5-e19b-4254-bc7e-9b712767e8f1"
      },
      "source": [
        "from indicTrans.inference.engine import Model\n",
        "\n",
        "indic2en_model = Model(expdir='../indic-en')"
      ],
      "execution_count": 3,
      "outputs": [
        {
          "output_type": "stream",
          "name": "stdout",
          "text": [
            "Initializing vocab and bpe\n",
            "Initializing model for translation\n"
          ]
        },
        {
          "output_type": "stream",
          "name": "stderr",
          "text": [
            "2021-09-25 03:49:11 | INFO | fairseq.tasks.translation | [SRC] dictionary: 35864 types\n",
            "2021-09-25 03:49:11 | INFO | fairseq.tasks.translation | [TGT] dictionary: 32088 types\n"
          ]
        }
      ]
    },
    {
      "cell_type": "markdown",
      "metadata": {
        "id": "rGdT8QPgHEYk"
      },
      "source": [
        "**The model has been setup**"
      ]
    },
    {
      "cell_type": "markdown",
      "metadata": {
        "id": "NEUfJdrsHIC8"
      },
      "source": [
        "## Preprocessing of the story according the model need.\n",
        "\n",
        "This model can works on sentence tokenized version of story. So we will be tokenising the story sentence-wise.\n",
        "\n",
        "So we are working on the story **कफ़न**."
      ]
    },
    {
      "cell_type": "code",
      "metadata": {
        "id": "QCSN8TV_Ic-q"
      },
      "source": [
        "story = '''झोपड़े के द्वार पर बाप और बेटा दोनों एक बुझे हुए अलाव के और अन्दर बेटे कि जवान बीवी बुधिया प्रसव-वेदना से पछाड़ खा रही थी। रह-रहकर उसके मुँह से ऐसी दिल हिला देने वाली आवाज़ निकलती थी, कि दोनों कलेजा थाम लेते थे। जाड़े की रात थी, प्रकृति सन्नाटे में डूबी हुई, सारा गाँव अन्धकार में लय हो गया था।\n",
        "\n",
        "घीसू ने कहा – मालूम होता है, बचेगी नहीं। सारा दिन दौड़ते ही गया, ज़रा देख तो आ।\n",
        "\n",
        "माधव चिढ़कर बोला – मरना ही है तो जल्दी मर क्यों नही जाती ? देखकर क्या करूं?\n",
        "\n",
        "‘तू बड़ा बेदर्द है बे ! साल-भर जिसके साथ सुख-चैन से रहा, उसी के साथ इतनी बेवफाई!’ ‘तो मुझसे तो उसका तड़पना और हाथ-पाँव पटकना नहीं देखा जाता।’\n",
        "\n",
        "चमारों का कुनबा था और सारे गाँव में बदनाम। घीसू एक दिन काम करता तो तीन दिन आराम करता। माधव इतना कामचोर था कि आधे घंटे काम करता तो घंटे भर चिलम पीता। इसीलिये उन्हें कहीँ मज़दूरी नहीं मिलती थी। घर में मुट्ठी भर अनाज भी मौजूद हो, तो उनके लिए काम करने कि कसम थी। जब दो-चार फाके हो जाते तो घीसू पेड़ पर चढ़कर लकड़ियां तोड़ लाता और माधव बाज़ार में बेच आता। जब तक वह पैसे रहते, दोनों इधर उधर मारे-मारे फिरते। गाँव में काम कि कमी ना थी। किसानों का गाँव था, मेहनती आदमी के लिए पचास काम थे। मगर इन दोनों को उस वक़्त बुलाते, जब दो आदमियों से एक का काम पाकर भी संतोष कर लेने के सिवा और कोई चारा ना होता। अगर दोनों साधू होते, तो उन्हें सुन्तोष और धैर्य के लिए, संयम और नियम की बिल्कुल ज़रूरत न होती। यह तो इनकी प्रकृति थी। विचित्र जीवन था इनका! घर में मिट्टी के दो-चार बर्तन के सिवा और कोई सम्पत्ति नही थी। फटे चीथ्डों से अपनी नग्नता को ढांके हुए जीये जाते थे। संसार की चिंताओं से मुक्त! कर्ज़ से लदे हुए। गालियाँ भी खाते, मार भी खाते, मगर कोई गम नहीं। दीं इतने की वसूली की बिल्कुल आशा ना रहने पर भी लोग इन्हें कुछ न कुछ कर्ज़ दे देते थे। मटर, आलू कि फसल में दूसरों के खेतों से मटर या आलू उखाड़ लाते और भून-भूनकर खा लेते या दुस-पांच ईखें उखाड़ लाते और रात को चूसते। घीसू ने इसी आकाश-वृति से साठ साल कि उम्र काट दी और माधव भी सपूत बेटे कि तरह बाप ही के पद चिन्हों पर चल रहा था, बल्कि उसका नाम और भी उजागर कर रहा था। इस वक़्त भी दोनो अलाव के सामने बैठकर आलू भून रहे थे, जो कि किसी खेत से खोद लाए थे। घीसू की स्त्री का तो बहुत दिन हुए देहांत हो गया था। माधव का ब्याह पिछले साल हुआ था। जबसे यह औरत आयी थी, उसने इस खानदान में व्यवस्था की नींव डाली थी और इन दोनो बे-गैरतों का दोजख भारती रहती थी। जब से वोह आयी, यह दोनो और भी आराम तलब हो गए थे। बल्कि कुछ अकडने भी लगे थे। कोई कार्य करने को बुलाता, तो निर्बयाज भाव से दुगनी मजदूरी माँगते। वही औरत आज प्रसव-वेदना से मर रही थी, और यह दोनों शायद इसी इंतज़ार में थे कि वोह मर जाये, तो आराम से सोयें।\n",
        "\n",
        "घीसू ने आलू छीलते हुए कहा- जाकर देख तो, क्या दशा है उसकी? चुड़ैल का फिसाद होगा, और क्या! यहाँ तो ओझा भी एक रुपया माँगता है!\n",
        "\n",
        "माधव तो भय था कि वोह कोठरी में गया, तो घीसू आलू का एक बड़ा भाग साफ कर देगा। बोला- मुझे वहाँ जाते डर लगता है।\n",
        "\n",
        "‘डर किस बात का है, मैं तो यहाँ हूँ ही।’ ‘तो तुम्ही जाकर देखो ना।’\n",
        "\n",
        "‘मेरी औरत जब मरी थी, तो मैं तीन दिन तक उसके पास से हिला तक नही; और फिर मुझसे लजायेगा कि नहीं? जिसका कभी मुँह नही देखा; आज उसका उधडा हुआ बदन देखूं। उसे तन कि सुध भी तो ना होगी। मुझे देख लेगी तो खुलकर हाथ-पाँव भी ना पटक सकेगी!’\n",
        "\n",
        "‘मैं सोचता हूँ, कोई बाल बच्चा हुआ, तो क्या होगा? सोंठ, गुड, तेल, कुछ भी तो नही है घर में!’\n",
        "\n",
        "‘सब कुछ आ जाएगा। भगवान् दे तो! जो लोग अभी एक पैसा नहीं दे रहे हैं, वो ही कल बुलाकर रुपये देंगे। मेरे नौ लड़के हुए, घर में कभी कुछ ना था, भगवान् ने किसी ना किसी तरह बेडा पार ही लगाया।’\n",
        "\n",
        "जिस समाज में रात-दिन म्हणत करने वालों कि हालात उनकी हालात से कुछ अच्छी ना थी, और किसानों के मुकाबले में वो लोग, जो किसानों कि दुर्बलताओं से लाभ उठाना जानते थे, कहीँ ज़्यादा सम्पन्न थे, वहाँ इस तरह की मनोवृति का पैदा हो जान कोई अचरज की बात नहीं थी। हम तो कहेंगे, घीसू किसानों से कहीँ ज़्यादा विचारवान था और किसानों के विचार-शुन्य समूह में शामिल होने के बदले बैठक बाजों की कुत्सित मंडळी में जा मिलता था। हाँ, उसमें यह शक्ति ना थी कि बैठक बाजों के नियम और निति का पालन कर्ता। इसलिये जहाँ उसकी मंडळी के और लोग गाव के सरगना और मुखिया बने हुए थे, उस पर सारा गाव ऊँगली उठाता था। फिर भी उसे यह तस्कीन तो थी ही, कि अगर वोह फटेहाल हैं तो उसे किसानों की-सी जी-तोड़ म्हणत तो नही करनी पड़ती, और उसकी सरलता और निरीहता से दुसरे लोग बेजा फायदा तो नही उठाते। दोनो आलू निकल-निकलकर जलते-जलते खाने लगे। कल से कुछ नही खाया था। इतना सब्र ना था कि उन्हें ठण्डा हो जाने दे। कई बार दोनों की ज़बान जल गयी। चिल जाने पर आलू का बहरी हिस्सा बहुत ज़्यादा गरम ना मालूम होता, लेकिन दोनों दांतों के तले पड़ते ही अन्दर का हिस्सा ज़बान, तलक और तालू जला देता था, और उस अंगारे को मुँह में रखेने से ज़्यादा खैरियत तो इसी में थी कि वो अन्दर पहुंच जाये। वहाँ उसे ठण्डा करने के लिए काफी समान था। इसलिये दोनों जल्द-जल्द निगल जाते । हालांकि इस कोशिश में उन्ही आंखों से आँसू निकल आते ।\n",
        "\n",
        "घीसू को उस वक़्त ठाकुर कि बरात याद आयी, जिसमें बीस साल पहले वोह गया था। उस दावत में उसे जो तृप्ति मिली थी, वो उसके जीवन में एक याद रखने लायक बात थी, और आज भी उसकी याद ताज़ा थी।\n",
        "\n",
        "बोला- वह भोज नही भूलता। तबसे फिर उस तरह का खाना और भर पेट नही मिला। लड्किवालों ने सबको भरपेट पूड़ीयां खिलायी थी, सबको!\n",
        "\n",
        "छोटे-बडे सबने पूडीयां खायी और असली घी कि! चटनी, रीता, तीन तरह के सूखे साग, एक रसेदार तरकारी, दही, चटनी, मिठाई, अब क्या बताऊँ कि उस भोग में क्या स्वाद मिल, कोई रोक-टोक नहीं थी, जो चीज़ चाहो, मांगो, जितना चाहो खाओ। लोगों ने ऐसा खाया, ऐसा खाया, कि किसी से पानी न पीया गया। मगर परोसने वाले हैं कि पत्तल में गरम-गरम गोल-गोल सुवासित कचौद्दीयां डाल देते हैं। मन करते हैं कि नहीं चाहिऐ, पत्तल को हाथ से रोके हुए हैं, मगर वह हैं कि दिए जाते हैं और जब सबने मुँह धो लिया, तो पान एलैची भी मिली। मगर मुझे पान लेने की कहाँ सुध थी! खङा हुआ ना जाता था। झटपट अपने कम्बल पर जाकर लेट गया। ऐसा दिल दरियाव था वह ठाकुर!\n",
        "\n",
        "माधव नें पदार्थों का मन ही मन मज़ा लेते हुए कहा- अब हमें कोई ऐसा भोजन नही खिलाता। ‘अब कोई क्या खिलायेगा। वह ज़माना दूसरा था। अब तो सबको किफायत सूझती है। शादी-ब्याह में मत खर्च करो। क्रिया-कर्म में मत खर्च करो। पूछों, गरीबों का माल बटोर-बटोर कर कहाँ रखोगे? बटोरने में तो कामं नही है। हाँ , खर्च में किफायती सूझती है। ‘\n",
        "\n",
        "‘तुमने बीस-एक पूड़ीयां खायी होंगी?’\n",
        "\n",
        "‘बीस से ज़्यादा खायी थी!’\n",
        "\n",
        "‘मैं पचास खा जाता!’\n",
        "\n",
        "‘पचास से कम मैंने भी ना खायी होगी। अच्छा पट्ठा था । तू तो मेरा आधा भी नही है ।’\n",
        "\n",
        "आलू खाकर दोनों ने पानी पिया और वहीँ अलाव के सामने अपनी धोतियाँ ओढ़्कर पाँव पेट पर डाले सो रहे। जैसे दो बडे-बडे अजगर गेदुलियाँ मारे पडे हो।\n",
        "\n",
        "और बुधिया अभी तक कराह रही थी।\n",
        "\n",
        "सबेरे माधव ने कोठरी में जाकर देखा, तो उसकी स्त्री ठण्डी हो गयी थी। उसके मुँह पर मक्खियां भिनक रही थी। पथ्रायी हुई आँखें ऊपर टंगी हुई थी । साड़ी देह धुल से लथपथ हो रही थी थी। उसके पेट में बच्चा मर गया था।\n",
        "\n",
        "माधव भागा हुआ घीसू के पास आया। फिर दोनों ज़ोर-ज़ोर से है-है करने और छाती पीटने लगे। पडोस्वालों ने यह रोना धोना सुना, तो दौड हुए आये और पुरानी मर्यादा के अनुसार इन अभागों को समझाने लगे।\n",
        "\n",
        "मगर ज़्यादा रोने-पीटने का अवसर ना था। कफ़न और लकड़ी की फिक्र करनी थी। घर में तो पैसा इस तरह गायब था, जैसे चील के घोसले में मॉस!\n",
        "\n",
        "बाप-बेटे रोते हुए गाव के ज़मिन्दार के पास गए। वह इन दोनों की सूरत से नफरत करते थे। कयी बार इन्हें अपने हाथों से पीट चुके थे। चोरी करने के लिए, वाडे पर काम पर न आने के लिए। पूछा- क्या है बे घिसुआ, रोता क्यों है? अब तो तू कहीँ दिखलायी भी नहीं देता! मालूम होता है, इस गाव में रहना नहीं चाहता।\n",
        "\n",
        "घीसू ने ज़मीन पर सिर रखकर आंखों से आँसू भरे हुए कहा – सरकार! बड़ी विपत्ति में हूँ। माधव कि घर-वाली गुज़र गयी। रात-भर तड़पती रही सरकार! हम दोनों उसके सिरहाने बैठे रहे। दवा दारु जो कुछ हो सका, सब कुछ किया, पर वोह हमें दगा दे गयी। अब कोई एक रोटी देने वाला भी न रह मालिक! तबाह हो गए । घर उजाड़ गया। आपका घुलाम हूँ, अब आपके सिवा कौन उसकी मिटटी पार लगायेगा। हमारे हाथ में जो कुछ था, वोह सब तो दवा दारु में उठ गया…सरकार कि ही दया होगी तो उसकी मिटटी उठेगी। आपके सिवा किसके द्वार पर जाऊं!\n",
        "\n",
        "ज़मीन्दार साहब दयालु थे। मगर घीसू पर दया करना काले कम्बल पर रंग चढाना था। जीं में तो आया, कह दे, चल, दूर हो यहाँ से। यों तोबुलाने से भी नही आता, आज जब गरज पढी तो आकर खुशामद कर रह है। हरामखोर कहीँ का, बदमाश! लेकिन यह क्रोध या दण्ड का अवसर न था। जीं में कूदते हुए दो रुपये निकालकर फ़ेंक दिए। मगर सांत्वना का एक शब्द भी मुँह से न निकला। उसकी तरफ ताका तक नहीं। जैसे सिर के बोझ उतारा हो। जब ज़मींदर साहब ने दो रुपये दिए, तो गाव के बनिए-महाजनों को इनकार का सहस कैसे होता? घीसू ज़मीन्दार का ढिंढोरा भी पीटना जानता था। किसी ने दो आने दिए, किसी ने चार आने। एक घंटे में घीसू और माधव बाज़ार से कफ़न लाने चले। इधर लोग बांस-वांस काटने लगे।\n",
        "\n",
        "गाव की नर्म दिल स्त्रियां आ-आकर लाश देखती थी, और उसकी बेबसी पर दो बूँद आँसू गिराकर चली जाती थी।\n",
        "\n",
        "बाज़ार में पहुंचकर, घीसू बोला – लकड़ी तो उसे जलाने भर कि मिल गयी है, क्यों माधव! माधव बोला – हाँ, लकड़ी तो बहुत है, अब कफ़न चाहिऐ।\n",
        "\n",
        "‘तो चलो कोई हल्का-सा कफ़न ले लें।\n",
        "\n",
        "‘हाँ, और क्या! लाश उठते उठते रात हो जायेगी। रात को कफ़न कौन देखता है!’\n",
        "\n",
        "‘कैसा बुरा रिवाज है कि जिसे जीते-जीं तन धांकने को चीथ्डा भी न मिले, उसे मरने पर नया कफ़न चाहिऐ।’\n",
        "\n",
        "‘कफ़न लाश के साथ जल ही तो जाता है।’\n",
        "\n",
        "‘क्या रखा रहता है! यहीं पांच रुपये पहले मिलते, तो कुछ दवा-दारु कर लेते।\n",
        "\n",
        "दोनों एक दुसरे के मॅन कि बात ताड़ रहे थे। बाज़ार में इधर-उधर घुमते रहे। कभी इस बजाज कि दुकान पर गए, कभी उस दुकान पर! तरह-तरह के कपडे, रेशमी और सूती देखे, मगर कुछ जंचा नहीं. यहाँ तक कि शाम हो गयी. तब दोनों न-जाने किस दयवी प्रेरणा से एक मधुशाला के सामने जा पहुंचे और जैसे पूर्व-निश्चित व्यवस्था से अन्दर चले गए. वहाँ ज़रा देर तक दोनों असमंजस में खडे रहे. फिर घीसू ने गड्डी के सामने जाकर कहा- साहूजी, एक बोतल हमें भी देना। उसके बाद कुछ चिखौना आया, तली हुई मछ्ली आयी, और बरामदे में बैठकर शांतिपूर्वक पीने लगे। कई कुज्जियां ताबड़्तोड़ पीने के बाद सुरूर में आ गए. घीसू बोला – कफ़न लगाने से क्या मिलता? आख़िर जल ही तो जाता. कुछ बहु के साथ तो न जाता. माधव आसमान कि तरफ देखकर बोला, मानो देवताओं को अपनी निश्पाप्ता का साक्षी बाना रह हो – दुनिया का दस्तूर है, नहीं लोग बाम्नों को हज़ारों रुपये क्यों दे देते हैं? कौन देखता है, परलोक में मिलता है या नहीं!\n",
        "\n",
        "‘बडे आदमियों के पास धन है,फूंके. हमारे पास फूंकने को क्या है!’\n",
        "\n",
        "‘लेकिन लोगों को जवाब क्या दोगे? लोग पूछेंगे नहीं, कफ़न कहाँ है?’\n",
        "\n",
        "घीसू हसा – अबे, कह देंगे कि रुपये कंमर से खिसक गए। बहुत ढूंदा, मिले नहीं. लोगों को विश्वास नहीं आएगा, लेकिन फिर वही रुपये देंगे। माधव भी हंसा – इन अनपेक्षित सौभाग्य पर. बोला – बड़ी अच्छी थी बेचारी! मरी तो ख़ूब खिला पिला कर!\n",
        "\n",
        "आधी बोतल से ज़्यादा उड़ गयी। घीसू ने दो सेर पूड़ियाँ मंगायी. चटनी, आचार, कलेजियां. शराबखाने के सामने ही दुकान थी. माधव लपककर दो पत्तलों में सारे सामान ले आया. पूरा डेड रुपया खर्च हो गया. सिर्फ थोड़े से पैसे बच रहे. दोनो इस वक़्त इस शान से बैठे पूड़ियाँ खा रहे थे जैसे जंगल में कोई शेर अपना शिकार उड़ रह हो. न जवाबदेही का खौफ था, न बदनामी का फिक्र. इन सब भावनाओं को उन्होने बहुत पहले ही जीत लिया था.\n",
        "\n",
        "घीसू दार्शनिक भाव से बोला – हमारी आत्म प्रसन्न हो रही है तो क्या उसे पुन्न न होगा? माधव ने श्रध्दा से सिर झुकाकर तस्दीख कि – ज़रूर से ज़रूर होगा. भगवान्, तुम अंतर्यामी हो. उसे बय्कुंथ ले जान. हम दोनो हृदय से आशीर्वाद दे रहे हैं. आज जो भोजन मिल वोह कहीँ उम्र-भर न मिल था. एक क्षण के बाद मॅन में एक शंका जागी. बोला – क्यों दादा, हम लोग भी एक न एक दिन वहाँ जायेंगे ही? घीसू ने इस भोले-भाले सवाल का कुछ उत्तर न दिया. वोह परलोक कि बाते सोचकर इस आनंद में बाधा न डालना चाहता था।\n",
        "\n",
        "‘जो वहाँ हम लोगों से पूछे कि तुमने हमें कफ़न क्यों नही दिया तो क्या कहेंगे?’\n",
        "\n",
        "‘कहेंगे तुम्हारा सिर!’\n",
        "\n",
        "‘पूछेगी तो ज़रूर!’\n",
        "\n",
        "‘तू कैसे जानता है कि उसे कफ़न न मिलेगा? तू मुझेईसा गधा समझता है? साठ साल क्या दुनिया में घास खोदता रह हूँ? उसको कफ़न मिलेगा और बहुत अच्छा मिलेगा!’ माधव को विश्वास न आया। बोला – कौन देगा? रुपये तो तुमने चाट कर दिए। वह तो मुझसे पूछेगी। उसकी माँग में तो सिन्दूर मैंने डाला था।\n",
        "\n",
        "घीसू गरम होकर बोला – मैं कहता हूँ, उसे कफ़न मिलेगा, तू मानता क्यों नहीं?\n",
        "\n",
        "‘कौन देगा, बताते क्यों नहीं?’ ‘वही लोग देंगे, जिन्होंने अबकी दिया । हाँ, अबकी रुपये हमारे हाथ न आएंगे। ‘\n",
        "\n",
        "ज्यों-ज्यों अँधेरा बढता था और सितारों की चमक तेज़ होती थी, मधुशाला, की रोनक भी बढती जाती थी। कोई गाता था, दींग मारता था, कोई अपने संगी के गले लिपट जाता था। कोई अपने दोस्त के मुँह में कुल्हड़ लगाए देता था। वहाँ के वातावरण में सुरूर था, हवा में नशा। कितने तो यहाँ आकर एक चुल्लू में मस्त हो जाते थे। शराब से ज़्यादा यहाँ की हवा उन पर नशा करती थी। जीवन की बाधाये यहाँ खीच लाती थी और कुछ देर के लिए यह भूल जाते थे कि वे जीते हैं कि मरते हैं। या न जीते हैं, न मरते हैं। और यह दोनो बाप बेटे अब भी मज़े ले-लेकर चुस्स्कियां ले रहे थे। सबकी निगाहें इनकी और जमी हुई थी। दोनों कितने भाग्य के बलि हैं! पूरी बोतल बीच में है।\n",
        "\n",
        "भरपेट खाकर माधव ने बची हुई पूडियों का पत्तल उठाकर एक भिखारी को दे दिया, जो खडा इनकी और भूखी आंखों से देख रह था। और देने के गौरव, आनंद, और उल्लास का अपने जीवन में पहली बार अनुभव किया।\n",
        "\n",
        "घीसू ने कहा – ले जा, ख़ूब खा और आर्शीवाद दे। बीवी कि कमायी है, वह तो मर गयी। मगर तेरा आर्शीवाद उसे ज़रूर पहुंचेगा। रोएँ-रोएँ से आर्शीवाद दो, बड़ी गाडी कमायी के पैसे हैं!\n",
        "\n",
        "माधव ने फिर आसमान की तरफ देखकर कहा – वह बैकुंठ में जायेगी दादा, बैकुंठ की रानी बनेगी।\n",
        "\n",
        "घीसू खड़ा हो गया और उल्लास की लहरों में तैरता हुआ बोला – हाँ बीटा, बैकुंठ में जायेगी। किसी को सताया नहीं, किसी को दबाया नहीं। मरते-मरते हमारी जिन्दगी की सबसे बड़ी लालसा पूरी कर गयी। वह न बैकुंठ जायेगी तो क्या मोटे-मोटे लोग जायेंगे, जो गरीबों को दोनों हाथों से लूटते हैं, और अपने पाप को धोने के लिए गंगा में नहाते हैं और मंदिरों में जल चडाते हैं?\n",
        "\n",
        "श्रद्धालुता का यह रंग तुरंत ही बदल गया। अस्थिरता नशे की खासियत है। दु:ख और निराशा का दौरा हुआ। माधव बोला – मगर दादा, बेचारी ने जिन्दगी में बड़ा दु:ख भोगा। कितना दु:ख झेलकर मरी!\n",
        "\n",
        "वह आंखों पर हाथ रखकर रोने लगा, चीखें मार-मारकर।\n",
        "\n",
        "घीसू ने समझाया – क्यों रोता हैं बेटा, खुश हो कि वह माया-जाल से मुक्त हो गई, जंजाल से छूट गयी। बड़ी भाग्यवान थी, इतनी जल्द माया-मोह के बन्धन तोड़ दिए।\n",
        "\n",
        "और दोनों खडे होकर गाने लगे – ”ठगिनी क्यों नैना झाम्कावे! ठगिनी …!”\n",
        "\n",
        "पियाक्क्ड्डों की आँखें इनकी और लगी हुई थी और वे दोनो अपने दिल में मस्त गाये जाते थे। फिर दोनों नाचने लगे। उछले भी, कूदे भी। गिरे भी, मटके भी। भाव भी बनाए, अभिनय भी किये, और आख़िर नशे से मदमस्त होकर वहीँ गिर पडे।'''"
      ],
      "execution_count": 4,
      "outputs": []
    },
    {
      "cell_type": "code",
      "metadata": {
        "colab": {
          "base_uri": "https://localhost:8080/"
        },
        "id": "CvBfUpgT9mkG",
        "outputId": "62647ddc-a8e5-49a4-d03e-4acd5dd55c9a"
      },
      "source": [
        "# converting story into english using model\n",
        "en_story = indic2en_model.translate_paragraph(story, 'hi', 'en')"
      ],
      "execution_count": 8,
      "outputs": [
        {
          "output_type": "stream",
          "name": "stderr",
          "text": [
            "100%|██████████| 230/230 [00:00<00:00, 9409.50it/s]\n"
          ]
        }
      ]
    },
    {
      "cell_type": "markdown",
      "metadata": {
        "id": "WaDIumLaJX04"
      },
      "source": [
        "# Final Translated Story"
      ]
    },
    {
      "cell_type": "code",
      "metadata": {
        "colab": {
          "base_uri": "https://localhost:8080/",
          "height": 1000
        },
        "id": "2XMKrHdObfxg",
        "outputId": "006020fa-ef69-4355-a33a-d20ac03d44c2"
      },
      "source": [
        "en_story"
      ],
      "execution_count": 9,
      "outputs": [
        {
          "output_type": "execute_result",
          "data": {
            "application/vnd.google.colaboratory.intrinsic+json": {
              "type": "string"
            },
            "text/plain": [
              "'At the door of the hut both the father and the son lay buried, and inside, the young wife of the son, Budhia, was pining with pangs of labour. There was such a heart - wrenching sound coming out of his mouth that both of them held the collage together. It was a winter night, nature was in a state of silence, the whole village was in darkness. Ghisu said, I know it will not survive. I kept running all day long, come see. Madhav said angrily, If you have to die, why don \\'t you die soon? What to see? You are toh very ajeeb! Such was the infidelity of the one with whom he or she had a good relationship for a whole year! \"\" \"I don\\'t see him shaking his hands and legs.\" There was a family of Chamars and a bad name in the whole village. If Ghisu worked one day, he would rest for three days. Madhav was so busy that if he worked for half an hour, he would drink for an hour. They were not getting wages for their work. If there was even a handful of grain in the house, he had sworn to work for them. When there were two or four holes, Ghisu would climb up the tree and break the wood and Madhav would sell it in the market. As long as the money remained, both of them wandered about. There was no work in the village. There was a village of farmers, there were fifty jobs for the hard working man. But these two would be called when there was no choice but to be satisfied with the work of one of the two men. If both were sadhus, they would not need at all restraint and discipline, for satisfaction and patience. This was their nature. It was a strange life! There was nothing in the house but two or four earthen pots. They lived by covering their nudity with torn cheths. Free From the Anxieties of the World! in debt. They also used to abuse, beat, and injure one another, but that did not stop them. Even when there was no hope of recovering the amount, people lent him some or some other loan. The pea, in the potato crop, would pluck the pea or potato from the fields of others and roast it and eat it or pluck the other five eyes and suck it at night. Ghisu spent sixty years of his life in the sky, and Madhav, like a son, was following in his father \\'s footsteps, revealing his name even more. At this time, both of them were sitting in front of the bonfire, roasting potatoes, which they had dug out from a field. Ghisu \\'s wife had died a long time ago. Madhav was married last year. From the time this woman came, she had laid the foundation of the system in this family and these two irregularities were a disgrace to India. When he arrived, they both wanted more rest. But there were some glitches too. If he was invited to do something, he would ask for a double wage. The same woman was dying of labour today, and the two of them were probably waiting for her to go to bed when she died. Ghisu plucked the potatoes and said, Go and see what his condition is. There will be a witch hunt, and what! Here even the carpenter is asking for a penny! Madhav was afraid that if he entered the room, Ghisu would clean up a large part of the potato. I am afraid to go there. What am I afraid of? Go and see it. When my wife was dead, I did not move from her for three days and would I be ashamed of myself again? Which I have never seen, today I see his mutilated body. He doesnt even have to look good. If you see me, you will not even be able to shake your hands and feet open! What happens if a child is born? Theres nothing at home! Everything will come. God bless you! Those who are not giving a single penny, they will call tomorrow and give Rs. I had nine sons, and there was never anything in the house, and God somehow or the other took it across. It was no wonder that in a society where the conditions of those who say day and night were no better than those who know how to take advantage of the peasant \\'s weaknesses than those who know how to take advantage of them, such an attitude was born. We will say that Ghisu was more thoughtful to the peasants and instead of joining the group of farmers, the meeting took place in the ugly circle of barbers. Yes, it did not have the power to follow the rules and regulations of the sittings. So while the rest of his congregation were made head and chief of the village, the whole village pointed fingers at him. Still, he had the perception that if they were broken, he would not have to be as heartless as the peasant, and that his simplicity and inefficiency would not be exploited by others. Both the potatoes came out and started eating hot. I had not eaten anything since yesterday. They did not have to wait long for it to cool down. On several occasions, the tongues of both men burned. The outer part of the potato would not look very warm when chewed, but as soon as it fell under both the teeth, the inside of the potato burned the tongue, the bark, and the palate, and it was better to put the fire in the mouth than to put it in the mouth. There was enough to cool him down. Hence, both of them drowned. However, he had tears in his eyes in this attempt. Ghisu then remembered Tagore \\'s quote in which he had gone twenty years ago. The satisfaction he gained at that feast was something to remember in his life, and his memory is still fresh in his mind. He does not forget the feast. There has been no food like that since then. The ladki had given them a full meal, everyone! All of them, young and old, ate pudis and real ghee. Chutney, Rita, three types of dried saag, a juicy vegetable, curds, chutneys, sweets, what the taste of that bhog was, there was no restriction, ask what you want, eat as much as you like. The people did eat, and the people did eat, and were not given water to drink. But those who are about to serve put hot, round, aromatic kachodis in the leaf. They feel that they are holding the leaf by hand, but they are given and when all of them have washed their faces, the betel - nut is also found. But how good it was to have a drink! He was not ruffled. She immediately went and lay down on her sofa. He was such a brave heart! \\'No one now feeds us with such food, \\'said Madhav, amused by the contents. \"\" \"What will anyone eat?\" \"\" That was the second time. Now everyone thinks it is affordable. Do not spend money on marriages. Dont waste your time on work. Ask me, where do you keep the poor \\'s money? There is no work to do. Yes, it is cost - effective. \\'You must have eaten at least twenty pies? I ate more than 20! I would have eaten fifty! I would not have eaten less than fifty. It was a good pitch. You are not even half of me. After eating the potatoes, the two of them drank water and lay down in front of the Alawa, covered with their dhoti and put their feet on the stomach. like two big python \\'s have been killed. And Budhia was still crying. In the morning Madhav went to the room and found that his wife was cold. His face was soaked with flies. His stony eyes hung up. The body was covered with a quilt. The baby died in the womb. Madhav came to the fleeing Ghisu. Then both of them are loud yes and started beating their chests. On hearing the cries of the neighbours, they rushed to the spot and tried to explain the misfortunes according to the old norms. But there was not much to cry about. We had to worry about the coffins and the wood. Money was missing in the house, like a mouse in a eagles nest! Father and son went weeping to the zamindar of the village. He hated both of them. They had assaulted him several times. To steal, not to come to work on the fence. Why are you crying? he asked. You can\\'t see it anymore! It seems that he does not want to live in this village. With his head on the ground, Ghisu said with tears in his eyes, Government! Im in very big trouble. Madhav \\'s housekeeper passed away. The government was silent all night long. We were seated next to him. The drug addict did everything he could, but it betrayed us. Now there is not a single loaf of bread left to the master! were destroyed. The house was gutted. I am your servant, now who will cross its soil except you. Everything that we had in our hands got into our hands. If the government had the compassion, it would have been wiped out. Who else can I go to? Zamindar Sahib was kind. But to have mercy on Ghisu was to paint on a black blanket. Come here, tell me, get out of here. It \\'s not even a call to the gun, but today when the thunder falls, he comes and rejoices. You bastards, bitch! But this was no occasion for anger or punishment. He took out two rupees and threw them away. But not a word of comfort came out of their mouths. He didnt even look at it. It is like removing the burden of the head. When Zamindar Saheb had given two rupees, how could the village banis and mahajans have the courage to refuse? Ghisu also knew how to beat the landlord \\'s drum. One gave two, the other four. In an hour, Ghisu and Madhav went to fetch the kafan from the market. People started gathering here. The soft-hearted women of the village used to come and see the dead bodies, and two drops of tears flowed over his helplessness. When he reached the market, Ghisu said, The wood has got enough to burn it, why Madhav! Madhav said, Yes, the wood is plentiful, now you want kafan. \"\" \"So let\\'s take a little sip.\" Ya, right! The dead body will rise in the evening. Who watches the night? It is a bad custom that a person who does not get even a scratch to cover his body while living should have a new coffin at the time of death. The \\'kafan\\' goes with the dead body only in water. What is\\'? \\' If I had got five rupees here earlier, I would have got some medicine. They both stared at each other. They kept roaming around in the market. Sometimes Bajaj went to that shop, sometimes to that shop! He saw all kinds of clothes, silk and cotton, but nothing matched. even in the evening, the two of them, with a kind gesture, came to the front of a bar and went inside, as if by a predetermined arrangement, where they stood in confusion for a while, and then Ghisu went to the mound and said, Sir, give us a bottle too. Then came some vinegar, and some fried fish, and sat in the verandah, and drank in peace. After drinking a lot of Kujis came to Surur. Ghisu said, What does it mean to wear a kafan? After all, the water would go away, not go with some of the plum. Madhav looked up to the sky and said, It was as if the gods were being made to witness their own indestructibility. It is the tradition of the world. Why do people give thousands of rupees to the bats? Who will see whether in the future or not? The older men have money, blow it up, what do we have to blow it up? But what will people say? People will not ask, where is Kafan? \"\" \"I will say that the money has slipped from the kammar.\" People will not believe it, but they will give the same amount. Madhav laughed at these unexpected fortunes and said, It was very good. Death is an evil foam! Half of the bottle flew away. Ghisu ordered two Ser \\'s. Chutney, pickle, colleges. there was a shop in front of the bar. Madhav leapt up and brought all the stuff in two leaves. The whole dead rupee was spent. Only a little money was left. Both of them were sitting in the forest, eating with pride as if a lion was eating its prey. There was no fear of accountability, no fear of stigma. They had captured all these feelings long ago. Madhav bowed his head in reverence and said, Of course you must be. God, you are intuitive. Take him to Bykunth. We are both blessing each other with our hearts. The food that we get today was not available for a lifetime. After a moment, a doubt arose in Mann. He said, Why don \\'t we also go there someday? Ghisu did not answer this naive question. He did not want to hinder this joy by thinking about the afterlife. \"\" \"Those who asked us there, \\'Why didn\\'t you give us the coffin\\', what would you say?\" They will say \\'your head\\'! Ask me! How do you know he will not get the kafan? Do you think I\\'m Jesus\\' ass? Have I been digging the grass in the world for 60 years? He\\'ll get the kafan and he\\'ll get the best! Madhav could not believe it. Who said, who said? You have taken away Rs. He will ask me. I had put Sindur in his demand. Ghisu turned warm and said, I tell you, why don \\'t you believe that he will get kafan? Why doesnt anyone say anything? \"\" \"The people who have given it will give it to you.\" Yes, we will not have the money now. As darkness grew and the stars shone brightly, so did the roar of the madrasah. Some sang, some danced, some hugged their mates. Someone would put a razor in the mouth of a friend. There the atmosphere was warm, the air intoxicating. Some people would come here and go into a chimney. The air was more intoxicating than the wine. Barriers to life dragged on here and for a while they forgot whether they lived or died. They dont live or die. And these two father and son were still breathing and enjoying themselves. Everyones eyes had settled on them. How fortunate they are both! The whole bottle is in the middle. Having eaten enough, Madhav picked up the leaves of the leftovers and gave them to a beggar who was standing there watching from their hungry eyes. And for the first time in his life, he experienced the glory, the joy, and the exultation of giving. Gheesu said, Take it, eat well and bless. The wife, who had earned it, died. But your blessings will reach him. Bless me with weeping, the big car driver has money! Madhav looked up to the sky and said, She will go to Vaikunth Dada, she will become the queen of Vaikunth. Ghisu stood up and said, floating in the waves of jubilation, \\'Yes, Beta, will go to Vaikuntha. No one was hurt and no damage occurred. Our greatest desire in life has been fulfilled by death. If she does not go, will the fat people go, who loot the poor with both hands, who bathe in the Ganges to wash their sins and offer water in the temples? This colour of devotion immediately changed. Instability is a characteristic of drugs. There was frustration and disappointment. Madhav said, But Grandpa, the poor girl had suffered a lot in her life. How tragic! He put his hand on his eyes and started crying. Ghisu explained why, son, be happy that she was free from the maze of magic and was free from the maze. I was lucky enough to break the bond of illusion so quickly. And the two of them stood up and began to sing: Thiagini naina jhamkave! The cheats! The eyes of the pikkaddas were fixed on them and they were both sung in their hearts. After which they both started laughing. Jump, even jump. He fell, he collapsed. He also composed and acted in plays, and eventually got drunk and fell there.'"
            ]
          },
          "metadata": {},
          "execution_count": 9
        }
      ]
    }
  ]
}