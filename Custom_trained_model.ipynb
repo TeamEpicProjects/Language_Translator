{
  "nbformat": 4,
  "nbformat_minor": 0,
  "metadata": {
    "accelerator": "GPU",
    "colab": {
      "name": "Copy of My_Translaion_HI_EN_Model (2).ipynb",
      "provenance": [],
      "collapsed_sections": [
        "xaQ6c-DXZEdo",
        "ygRFF99xWosc",
        "NKI03u06WwRx",
        "udVU0ZL2Y7ZP",
        "9oSs4IPF6r2f",
        "dcgE7m0DKawt"
      ]
    },
    "kernelspec": {
      "display_name": "Python 3",
      "language": "python",
      "name": "python3"
    },
    "language_info": {
      "codemirror_mode": {
        "name": "ipython",
        "version": 3
      },
      "file_extension": ".py",
      "mimetype": "text/x-python",
      "name": "python",
      "nbconvert_exporter": "python",
      "pygments_lexer": "ipython3",
      "version": "3.8.8"
    }
  },
  "cells": [
    {
      "cell_type": "markdown",
      "metadata": {
        "id": "xaQ6c-DXZEdo"
      },
      "source": [
        "## Importing Data"
      ]
    },
    {
      "cell_type": "code",
      "metadata": {
        "id": "VRirQe12Hpir",
        "colab": {
          "base_uri": "https://localhost:8080/"
        },
        "outputId": "bb601870-856d-4ed8-8607-8da6d3bf3976"
      },
      "source": [
        "from google.colab import drive\n",
        "drive.mount('/content/drive')"
      ],
      "execution_count": null,
      "outputs": [
        {
          "output_type": "stream",
          "name": "stdout",
          "text": [
            "Drive already mounted at /content/drive; to attempt to forcibly remount, call drive.mount(\"/content/drive\", force_remount=True).\n"
          ]
        }
      ]
    },
    {
      "cell_type": "code",
      "metadata": {
        "id": "jDvcMG31zoz5"
      },
      "source": [
        "import tarfile\n",
        "\n",
        "tar = tarfile.open('/content/drive/MyDrive/parallel.tgz', \"r:gz\")\n",
        "tar.extractall()\n",
        "tar.close()"
      ],
      "execution_count": null,
      "outputs": []
    },
    {
      "cell_type": "code",
      "metadata": {
        "colab": {
          "base_uri": "https://localhost:8080/"
        },
        "id": "UVI9qpCR4dYM",
        "outputId": "0d27704e-e20a-47b5-bcd2-8be2c4523311"
      },
      "source": [
        "%cd parallel"
      ],
      "execution_count": null,
      "outputs": [
        {
          "output_type": "stream",
          "name": "stdout",
          "text": [
            "/content/parallel\n"
          ]
        }
      ]
    },
    {
      "cell_type": "code",
      "metadata": {
        "id": "B4k_X306JcvT"
      },
      "source": [
        "import pandas as pd\n",
        "import numpy as np\n",
        "\n",
        "from keras.models import Sequential\n",
        "from keras.layers import Dense, LSTM, Embedding, RepeatVector\n",
        "from keras.preprocessing.text import Tokenizer\n",
        "from keras.callbacks import ModelCheckpoint\n",
        "from keras.preprocessing.sequence import pad_sequences\n",
        "from keras.models import load_model\n",
        "from tensorflow.keras import optimizers\n",
        "from tensorflow.keras.utils import to_categorical\n",
        "from keras.utils.vis_utils import plot_model\n",
        "\n",
        "from sklearn.model_selection import train_test_split\n",
        "\n",
        "from nltk.translate.bleu_score import corpus_bleu"
      ],
      "execution_count": null,
      "outputs": []
    },
    {
      "cell_type": "code",
      "metadata": {
        "id": "nXITeRBNJM61"
      },
      "source": [
        "# dataframe\n",
        "data = pd.DataFrame()"
      ],
      "execution_count": null,
      "outputs": []
    },
    {
      "cell_type": "code",
      "metadata": {
        "id": "NTgK5KNHJblS"
      },
      "source": [
        "with open('IITB.en-hi.en', encoding = 'utf8') as f:\n",
        "    en_data = f.readlines()"
      ],
      "execution_count": null,
      "outputs": []
    },
    {
      "cell_type": "code",
      "metadata": {
        "id": "qGBZ4fbANQ1t"
      },
      "source": [
        "with open('IITB.en-hi.hi', encoding='utf-8') as f:\n",
        "    hi_data = f.readlines()"
      ],
      "execution_count": null,
      "outputs": []
    },
    {
      "cell_type": "code",
      "metadata": {
        "id": "IXrFLPZ1NVvx"
      },
      "source": [
        "data['english'] = en_data\n",
        "data['hindi'] = hi_data"
      ],
      "execution_count": null,
      "outputs": []
    },
    {
      "cell_type": "code",
      "metadata": {
        "colab": {
          "base_uri": "https://localhost:8080/",
          "height": 206
        },
        "id": "LoMMlOrcPd5S",
        "outputId": "fdfa59fc-4886-4703-fbd6-44f77c2d01a1"
      },
      "source": [
        "data.head()"
      ],
      "execution_count": null,
      "outputs": [
        {
          "output_type": "execute_result",
          "data": {
            "text/html": [
              "<div>\n",
              "<style scoped>\n",
              "    .dataframe tbody tr th:only-of-type {\n",
              "        vertical-align: middle;\n",
              "    }\n",
              "\n",
              "    .dataframe tbody tr th {\n",
              "        vertical-align: top;\n",
              "    }\n",
              "\n",
              "    .dataframe thead th {\n",
              "        text-align: right;\n",
              "    }\n",
              "</style>\n",
              "<table border=\"1\" class=\"dataframe\">\n",
              "  <thead>\n",
              "    <tr style=\"text-align: right;\">\n",
              "      <th></th>\n",
              "      <th>english</th>\n",
              "      <th>hindi</th>\n",
              "    </tr>\n",
              "  </thead>\n",
              "  <tbody>\n",
              "    <tr>\n",
              "      <th>0</th>\n",
              "      <td>Give your application an accessibility workout\\n</td>\n",
              "      <td>अपने अनुप्रयोग को पहुंचनीयता व्यायाम का लाभ दें\\n</td>\n",
              "    </tr>\n",
              "    <tr>\n",
              "      <th>1</th>\n",
              "      <td>Accerciser Accessibility Explorer\\n</td>\n",
              "      <td>एक्सेर्साइसर पहुंचनीयता अन्वेषक\\n</td>\n",
              "    </tr>\n",
              "    <tr>\n",
              "      <th>2</th>\n",
              "      <td>The default plugin layout for the bottom panel\\n</td>\n",
              "      <td>निचले पटल के लिए डिफोल्ट प्लग-इन खाका\\n</td>\n",
              "    </tr>\n",
              "    <tr>\n",
              "      <th>3</th>\n",
              "      <td>The default plugin layout for the top panel\\n</td>\n",
              "      <td>ऊपरी पटल के लिए डिफोल्ट प्लग-इन खाका\\n</td>\n",
              "    </tr>\n",
              "    <tr>\n",
              "      <th>4</th>\n",
              "      <td>A list of plugins that are disabled by default\\n</td>\n",
              "      <td>उन प्लग-इनों की सूची जिन्हें डिफोल्ट रूप से नि...</td>\n",
              "    </tr>\n",
              "  </tbody>\n",
              "</table>\n",
              "</div>"
            ],
            "text/plain": [
              "                                            english                                              hindi\n",
              "0  Give your application an accessibility workout\\n  अपने अनुप्रयोग को पहुंचनीयता व्यायाम का लाभ दें\\n\n",
              "1               Accerciser Accessibility Explorer\\n                  एक्सेर्साइसर पहुंचनीयता अन्वेषक\\n\n",
              "2  The default plugin layout for the bottom panel\\n            निचले पटल के लिए डिफोल्ट प्लग-इन खाका\\n\n",
              "3     The default plugin layout for the top panel\\n             ऊपरी पटल के लिए डिफोल्ट प्लग-इन खाका\\n\n",
              "4  A list of plugins that are disabled by default\\n  उन प्लग-इनों की सूची जिन्हें डिफोल्ट रूप से नि..."
            ]
          },
          "metadata": {},
          "execution_count": 10
        }
      ]
    },
    {
      "cell_type": "markdown",
      "metadata": {
        "id": "9vxiEhSTWkmE"
      },
      "source": [
        "## Preprocessing Data"
      ]
    },
    {
      "cell_type": "markdown",
      "metadata": {
        "id": "ygRFF99xWosc"
      },
      "source": [
        "### Dealing with sentence outliers"
      ]
    },
    {
      "cell_type": "code",
      "metadata": {
        "id": "AuWjapUoRBP1"
      },
      "source": [
        "def sent_len(text):\n",
        "    return len(text.split(' '))"
      ],
      "execution_count": null,
      "outputs": []
    },
    {
      "cell_type": "code",
      "metadata": {
        "id": "9keTSmNT5uLV"
      },
      "source": [
        "data['eng_sent_len'] = data.english.apply(lambda sent : sent_len(sent))\n",
        "data['hi_sent_len'] = data.hindi.apply(lambda sent : sent_len(sent))"
      ],
      "execution_count": null,
      "outputs": []
    },
    {
      "cell_type": "code",
      "metadata": {
        "colab": {
          "base_uri": "https://localhost:8080/",
          "height": 206
        },
        "id": "qmYJ4TII5xvV",
        "outputId": "d8976104-0375-4540-d510-c19ad4276f2e"
      },
      "source": [
        "data.head()"
      ],
      "execution_count": null,
      "outputs": [
        {
          "output_type": "execute_result",
          "data": {
            "text/html": [
              "<div>\n",
              "<style scoped>\n",
              "    .dataframe tbody tr th:only-of-type {\n",
              "        vertical-align: middle;\n",
              "    }\n",
              "\n",
              "    .dataframe tbody tr th {\n",
              "        vertical-align: top;\n",
              "    }\n",
              "\n",
              "    .dataframe thead th {\n",
              "        text-align: right;\n",
              "    }\n",
              "</style>\n",
              "<table border=\"1\" class=\"dataframe\">\n",
              "  <thead>\n",
              "    <tr style=\"text-align: right;\">\n",
              "      <th></th>\n",
              "      <th>english</th>\n",
              "      <th>hindi</th>\n",
              "      <th>eng_sent_len</th>\n",
              "      <th>hi_sent_len</th>\n",
              "    </tr>\n",
              "  </thead>\n",
              "  <tbody>\n",
              "    <tr>\n",
              "      <th>0</th>\n",
              "      <td>Give your application an accessibility workout\\n</td>\n",
              "      <td>अपने अनुप्रयोग को पहुंचनीयता व्यायाम का लाभ दें\\n</td>\n",
              "      <td>6</td>\n",
              "      <td>8</td>\n",
              "    </tr>\n",
              "    <tr>\n",
              "      <th>1</th>\n",
              "      <td>Accerciser Accessibility Explorer\\n</td>\n",
              "      <td>एक्सेर्साइसर पहुंचनीयता अन्वेषक\\n</td>\n",
              "      <td>3</td>\n",
              "      <td>3</td>\n",
              "    </tr>\n",
              "    <tr>\n",
              "      <th>2</th>\n",
              "      <td>The default plugin layout for the bottom panel\\n</td>\n",
              "      <td>निचले पटल के लिए डिफोल्ट प्लग-इन खाका\\n</td>\n",
              "      <td>8</td>\n",
              "      <td>7</td>\n",
              "    </tr>\n",
              "    <tr>\n",
              "      <th>3</th>\n",
              "      <td>The default plugin layout for the top panel\\n</td>\n",
              "      <td>ऊपरी पटल के लिए डिफोल्ट प्लग-इन खाका\\n</td>\n",
              "      <td>8</td>\n",
              "      <td>7</td>\n",
              "    </tr>\n",
              "    <tr>\n",
              "      <th>4</th>\n",
              "      <td>A list of plugins that are disabled by default\\n</td>\n",
              "      <td>उन प्लग-इनों की सूची जिन्हें डिफोल्ट रूप से नि...</td>\n",
              "      <td>9</td>\n",
              "      <td>12</td>\n",
              "    </tr>\n",
              "  </tbody>\n",
              "</table>\n",
              "</div>"
            ],
            "text/plain": [
              "                                            english  ... hi_sent_len\n",
              "0  Give your application an accessibility workout\\n  ...           8\n",
              "1               Accerciser Accessibility Explorer\\n  ...           3\n",
              "2  The default plugin layout for the bottom panel\\n  ...           7\n",
              "3     The default plugin layout for the top panel\\n  ...           7\n",
              "4  A list of plugins that are disabled by default\\n  ...          12\n",
              "\n",
              "[5 rows x 4 columns]"
            ]
          },
          "metadata": {},
          "execution_count": 13
        }
      ]
    },
    {
      "cell_type": "code",
      "metadata": {
        "colab": {
          "base_uri": "https://localhost:8080/"
        },
        "id": "2Q7gHgfKTIrN",
        "outputId": "048e9797-a3c8-45b7-d783-7c2809f6ff7a"
      },
      "source": [
        "print(f'Maximum english sentence length : {max(data.eng_sent_len)}')\n",
        "print(f'Maximum hindi sentence length : {max(data.hi_sent_len)}')"
      ],
      "execution_count": null,
      "outputs": [
        {
          "output_type": "stream",
          "name": "stdout",
          "text": [
            "Maximum english sentence length : 1917\n",
            "Maximum hindi sentence length : 1380\n"
          ]
        }
      ]
    },
    {
      "cell_type": "code",
      "metadata": {
        "colab": {
          "base_uri": "https://localhost:8080/"
        },
        "id": "jZQFNpaMYdeK",
        "outputId": "e1cffa9f-85b3-4d3c-8c79-471cb667d4b1"
      },
      "source": [
        "print(f'Average English sentence length : {np.mean(data.eng_sent_len)}')\n",
        "print(f'Average Hindi sentence length : {np.mean(data.hi_sent_len)}')"
      ],
      "execution_count": null,
      "outputs": [
        {
          "output_type": "stream",
          "name": "stdout",
          "text": [
            "Average English sentence length : 12.92381725086073\n",
            "Average Hindi sentence length : 14.38113428615093\n"
          ]
        }
      ]
    },
    {
      "cell_type": "code",
      "metadata": {
        "id": "Gzf1cCaLT6Qe"
      },
      "source": [
        "# new dataset\n",
        "data = data[(data['eng_sent_len']<=30) & (data['hi_sent_len']<=30)].reset_index(drop=True)"
      ],
      "execution_count": null,
      "outputs": []
    },
    {
      "cell_type": "code",
      "metadata": {
        "colab": {
          "base_uri": "https://localhost:8080/",
          "height": 206
        },
        "id": "x5Wzf6CBVrp_",
        "outputId": "16ec5e0b-a5ff-4f8b-db93-d807997462aa"
      },
      "source": [
        "data.head()"
      ],
      "execution_count": null,
      "outputs": [
        {
          "output_type": "execute_result",
          "data": {
            "text/html": [
              "<div>\n",
              "<style scoped>\n",
              "    .dataframe tbody tr th:only-of-type {\n",
              "        vertical-align: middle;\n",
              "    }\n",
              "\n",
              "    .dataframe tbody tr th {\n",
              "        vertical-align: top;\n",
              "    }\n",
              "\n",
              "    .dataframe thead th {\n",
              "        text-align: right;\n",
              "    }\n",
              "</style>\n",
              "<table border=\"1\" class=\"dataframe\">\n",
              "  <thead>\n",
              "    <tr style=\"text-align: right;\">\n",
              "      <th></th>\n",
              "      <th>english</th>\n",
              "      <th>hindi</th>\n",
              "      <th>eng_sent_len</th>\n",
              "      <th>hi_sent_len</th>\n",
              "    </tr>\n",
              "  </thead>\n",
              "  <tbody>\n",
              "    <tr>\n",
              "      <th>0</th>\n",
              "      <td>Give your application an accessibility workout\\n</td>\n",
              "      <td>अपने अनुप्रयोग को पहुंचनीयता व्यायाम का लाभ दें\\n</td>\n",
              "      <td>6</td>\n",
              "      <td>8</td>\n",
              "    </tr>\n",
              "    <tr>\n",
              "      <th>1</th>\n",
              "      <td>Accerciser Accessibility Explorer\\n</td>\n",
              "      <td>एक्सेर्साइसर पहुंचनीयता अन्वेषक\\n</td>\n",
              "      <td>3</td>\n",
              "      <td>3</td>\n",
              "    </tr>\n",
              "    <tr>\n",
              "      <th>2</th>\n",
              "      <td>The default plugin layout for the bottom panel\\n</td>\n",
              "      <td>निचले पटल के लिए डिफोल्ट प्लग-इन खाका\\n</td>\n",
              "      <td>8</td>\n",
              "      <td>7</td>\n",
              "    </tr>\n",
              "    <tr>\n",
              "      <th>3</th>\n",
              "      <td>The default plugin layout for the top panel\\n</td>\n",
              "      <td>ऊपरी पटल के लिए डिफोल्ट प्लग-इन खाका\\n</td>\n",
              "      <td>8</td>\n",
              "      <td>7</td>\n",
              "    </tr>\n",
              "    <tr>\n",
              "      <th>4</th>\n",
              "      <td>A list of plugins that are disabled by default\\n</td>\n",
              "      <td>उन प्लग-इनों की सूची जिन्हें डिफोल्ट रूप से नि...</td>\n",
              "      <td>9</td>\n",
              "      <td>12</td>\n",
              "    </tr>\n",
              "  </tbody>\n",
              "</table>\n",
              "</div>"
            ],
            "text/plain": [
              "                                            english  ... hi_sent_len\n",
              "0  Give your application an accessibility workout\\n  ...           8\n",
              "1               Accerciser Accessibility Explorer\\n  ...           3\n",
              "2  The default plugin layout for the bottom panel\\n  ...           7\n",
              "3     The default plugin layout for the top panel\\n  ...           7\n",
              "4  A list of plugins that are disabled by default\\n  ...          12\n",
              "\n",
              "[5 rows x 4 columns]"
            ]
          },
          "metadata": {},
          "execution_count": 17
        }
      ]
    },
    {
      "cell_type": "markdown",
      "metadata": {
        "id": "NKI03u06WwRx"
      },
      "source": [
        "### Removing extra punctuations and unnecessary symbols"
      ]
    },
    {
      "cell_type": "code",
      "metadata": {
        "id": "MEBG5soqXz_R"
      },
      "source": [
        "def clean_text(text):\n",
        "  text = text.lower()\n",
        "  text = text.replace('\\n', ' ')\n",
        "  #text = '[START] '+ text + ' [END]'\n",
        "  text = text.strip()\n",
        "  return text"
      ],
      "execution_count": null,
      "outputs": []
    },
    {
      "cell_type": "code",
      "metadata": {
        "id": "ld7bIh-YWEo_"
      },
      "source": [
        "data.english = data.english.apply(lambda sent : clean_text(sent))\n",
        "data.hindi = data.hindi.apply(lambda sent : clean_text(sent))"
      ],
      "execution_count": null,
      "outputs": []
    },
    {
      "cell_type": "code",
      "metadata": {
        "colab": {
          "base_uri": "https://localhost:8080/",
          "height": 206
        },
        "id": "ak5aFXooYUHt",
        "outputId": "16a46708-1031-4bd4-afa5-bb4f29bcbcdf"
      },
      "source": [
        "data.head()"
      ],
      "execution_count": null,
      "outputs": [
        {
          "output_type": "execute_result",
          "data": {
            "text/html": [
              "<div>\n",
              "<style scoped>\n",
              "    .dataframe tbody tr th:only-of-type {\n",
              "        vertical-align: middle;\n",
              "    }\n",
              "\n",
              "    .dataframe tbody tr th {\n",
              "        vertical-align: top;\n",
              "    }\n",
              "\n",
              "    .dataframe thead th {\n",
              "        text-align: right;\n",
              "    }\n",
              "</style>\n",
              "<table border=\"1\" class=\"dataframe\">\n",
              "  <thead>\n",
              "    <tr style=\"text-align: right;\">\n",
              "      <th></th>\n",
              "      <th>english</th>\n",
              "      <th>hindi</th>\n",
              "      <th>eng_sent_len</th>\n",
              "      <th>hi_sent_len</th>\n",
              "    </tr>\n",
              "  </thead>\n",
              "  <tbody>\n",
              "    <tr>\n",
              "      <th>0</th>\n",
              "      <td>give your application an accessibility workout</td>\n",
              "      <td>अपने अनुप्रयोग को पहुंचनीयता व्यायाम का लाभ दें</td>\n",
              "      <td>6</td>\n",
              "      <td>8</td>\n",
              "    </tr>\n",
              "    <tr>\n",
              "      <th>1</th>\n",
              "      <td>accerciser accessibility explorer</td>\n",
              "      <td>एक्सेर्साइसर पहुंचनीयता अन्वेषक</td>\n",
              "      <td>3</td>\n",
              "      <td>3</td>\n",
              "    </tr>\n",
              "    <tr>\n",
              "      <th>2</th>\n",
              "      <td>the default plugin layout for the bottom panel</td>\n",
              "      <td>निचले पटल के लिए डिफोल्ट प्लग-इन खाका</td>\n",
              "      <td>8</td>\n",
              "      <td>7</td>\n",
              "    </tr>\n",
              "    <tr>\n",
              "      <th>3</th>\n",
              "      <td>the default plugin layout for the top panel</td>\n",
              "      <td>ऊपरी पटल के लिए डिफोल्ट प्लग-इन खाका</td>\n",
              "      <td>8</td>\n",
              "      <td>7</td>\n",
              "    </tr>\n",
              "    <tr>\n",
              "      <th>4</th>\n",
              "      <td>a list of plugins that are disabled by default</td>\n",
              "      <td>उन प्लग-इनों की सूची जिन्हें डिफोल्ट रूप से नि...</td>\n",
              "      <td>9</td>\n",
              "      <td>12</td>\n",
              "    </tr>\n",
              "  </tbody>\n",
              "</table>\n",
              "</div>"
            ],
            "text/plain": [
              "                                          english  ... hi_sent_len\n",
              "0  give your application an accessibility workout  ...           8\n",
              "1               accerciser accessibility explorer  ...           3\n",
              "2  the default plugin layout for the bottom panel  ...           7\n",
              "3     the default plugin layout for the top panel  ...           7\n",
              "4  a list of plugins that are disabled by default  ...          12\n",
              "\n",
              "[5 rows x 4 columns]"
            ]
          },
          "metadata": {},
          "execution_count": 20
        }
      ]
    },
    {
      "cell_type": "code",
      "metadata": {
        "colab": {
          "base_uri": "https://localhost:8080/"
        },
        "id": "ohEmyN-F6MVU",
        "outputId": "f81ed677-308d-4295-c526-2c98fb7f1c03"
      },
      "source": [
        "data.shape"
      ],
      "execution_count": null,
      "outputs": [
        {
          "output_type": "execute_result",
          "data": {
            "text/plain": [
              "(1395167, 4)"
            ]
          },
          "metadata": {},
          "execution_count": 21
        }
      ]
    },
    {
      "cell_type": "code",
      "metadata": {
        "id": "d9OC73mO6OUn"
      },
      "source": [
        "new_data = data[:10000]"
      ],
      "execution_count": null,
      "outputs": []
    },
    {
      "cell_type": "markdown",
      "metadata": {
        "id": "udVU0ZL2Y7ZP"
      },
      "source": [
        "## Text to Sequence Conversion"
      ]
    },
    {
      "cell_type": "code",
      "metadata": {
        "id": "urMaN4LRYVR8"
      },
      "source": [
        "# building a tokenizer\n",
        "def tokenization(lines):\n",
        "    tokenizer = Tokenizer()\n",
        "    tokenizer.fit_on_texts(lines)\n",
        "    return tokenizer"
      ],
      "execution_count": null,
      "outputs": []
    },
    {
      "cell_type": "code",
      "metadata": {
        "id": "GfWmUOFL6giZ"
      },
      "source": [
        "eng_tokenizer = tokenization(new_data.english)\n",
        "eng_vocab_size = len(eng_tokenizer.word_index) + 1\n",
        "\n",
        "hi_tokenizer = tokenization(new_data.hindi)\n",
        "hi_vocab_size = len(hi_tokenizer.word_index) + 1"
      ],
      "execution_count": null,
      "outputs": []
    },
    {
      "cell_type": "code",
      "metadata": {
        "colab": {
          "base_uri": "https://localhost:8080/"
        },
        "id": "8RvGxh4q6kyT",
        "outputId": "41c085a6-f37d-4272-e719-53bd9015df8c"
      },
      "source": [
        "print(f'English Vocabulary size : {eng_vocab_size}')\n",
        "print(f'Hindi Vocabulary size : {hi_vocab_size}')"
      ],
      "execution_count": null,
      "outputs": [
        {
          "output_type": "stream",
          "name": "stdout",
          "text": [
            "English Vocabulary size : 1523\n",
            "Hindi Vocabulary size : 1959\n"
          ]
        }
      ]
    },
    {
      "cell_type": "code",
      "metadata": {
        "id": "XmUfmNa86mwl"
      },
      "source": [
        "# encode and pad sequences, padding to maximum length of the sentences\n",
        "def encode_sequences(tokenizer, length, lines):\n",
        "  # integer encodeing of sequences\n",
        "  seq = tokenizer.texts_to_sequences(lines)\n",
        "  # pad sequences with 0 post values\n",
        "  seq = pad_sequences(seq, maxlen = length, padding = 'post')\n",
        "  return seq"
      ],
      "execution_count": null,
      "outputs": []
    },
    {
      "cell_type": "code",
      "metadata": {
        "id": "5k2obL9_AY22"
      },
      "source": [
        "# one hot encode target sequence\n",
        "def encode_output(sequences, vocab_size):\n",
        "  ylist = list()\n",
        "  for seq in sequences:\n",
        "    encoded = to_categorical(seq, num_classes = vocab_size)\n",
        "    ylist.append(encoded)\n",
        "  y = np.array(ylist)\n",
        "  y = y.reshape(sequences.shape[0], sequences.shape[1], vocab_size)\n",
        "  return y"
      ],
      "execution_count": null,
      "outputs": []
    },
    {
      "cell_type": "markdown",
      "metadata": {
        "id": "9oSs4IPF6r2f"
      },
      "source": [
        "## Splitting of data into training and testing "
      ]
    },
    {
      "cell_type": "code",
      "metadata": {
        "id": "j9mD7Vop6xH6"
      },
      "source": [
        "train, test = train_test_split(new_data, test_size=0.3, random_state=35)"
      ],
      "execution_count": null,
      "outputs": []
    },
    {
      "cell_type": "code",
      "metadata": {
        "id": "1Pdr6NZA6zs-"
      },
      "source": [
        "trainX = encode_sequences(hi_tokenizer, 30, train.hindi)\n",
        "trainy = encode_sequences(eng_tokenizer, 30, train.english)\n",
        "trainy = encode_output(trainy, eng_vocab_size)\n",
        "\n",
        "testX = encode_sequences(hi_tokenizer, 30, test.hindi)\n",
        "testy = encode_sequences(eng_tokenizer, 30, test.english)\n",
        "testy = encode_output(testy, eng_vocab_size)"
      ],
      "execution_count": null,
      "outputs": []
    },
    {
      "cell_type": "markdown",
      "metadata": {
        "id": "0YLfTaqs67hU"
      },
      "source": [
        "## Defining Seq2Seq Model"
      ]
    },
    {
      "cell_type": "code",
      "metadata": {
        "id": "tHFL5ew36_yR"
      },
      "source": [
        "def define_model(input_vocab, output_vocab, input_timesteps, output_timesteps, n_units):\n",
        "    # Encoding layers\n",
        "    model = Sequential()\n",
        "    model.add(Embedding(input_vocab, n_units, input_length = input_timesteps, mask_zero = True))\n",
        "    model.add(LSTM(n_units))\n",
        "    \n",
        "    model.add(RepeatVector(output_timesteps))\n",
        "    \n",
        "    # Decoding Layers\n",
        "    model.add(LSTM(n_units, return_sequences = True))\n",
        "    model.add(Dense(output_vocab, activation = 'softmax'))\n",
        "    \n",
        "    return model"
      ],
      "execution_count": null,
      "outputs": []
    },
    {
      "cell_type": "code",
      "metadata": {
        "id": "Gh0d8OT37CHR"
      },
      "source": [
        "# define model\n",
        "model = define_model(hi_vocab_size, eng_vocab_size, 30, 30 , 256)\n",
        "model.compile(optimizer = 'adam', loss = 'categorical_crossentropy')"
      ],
      "execution_count": null,
      "outputs": []
    },
    {
      "cell_type": "code",
      "metadata": {
        "id": "eML6ECxOCNhT",
        "colab": {
          "base_uri": "https://localhost:8080/",
          "height": 998
        },
        "outputId": "8435e543-af14-4d10-dd57-59dd5b2443c7"
      },
      "source": [
        "# summarize defined model\n",
        "print(model.summary())\n",
        "plot_model(model, to_file = 'model.png', show_shapes = True)"
      ],
      "execution_count": null,
      "outputs": [
        {
          "output_type": "stream",
          "name": "stdout",
          "text": [
            "Model: \"sequential\"\n",
            "_________________________________________________________________\n",
            "Layer (type)                 Output Shape              Param #   \n",
            "=================================================================\n",
            "embedding (Embedding)        (None, 30, 256)           501504    \n",
            "_________________________________________________________________\n",
            "lstm (LSTM)                  (None, 256)               525312    \n",
            "_________________________________________________________________\n",
            "repeat_vector (RepeatVector) (None, 30, 256)           0         \n",
            "_________________________________________________________________\n",
            "lstm_1 (LSTM)                (None, 30, 256)           525312    \n",
            "_________________________________________________________________\n",
            "dense (Dense)                (None, 30, 1523)          391411    \n",
            "=================================================================\n",
            "Total params: 1,943,539\n",
            "Trainable params: 1,943,539\n",
            "Non-trainable params: 0\n",
            "_________________________________________________________________\n",
            "None\n"
          ]
        },
        {
          "output_type": "execute_result",
          "data": {
            "image/png": "[encoded data removed]",
            "text/plain": [
              "<IPython.core.display.Image object>"
            ]
          },
          "metadata": {},
          "execution_count": 32
        }
      ]
    },
    {
      "cell_type": "code",
      "metadata": {
        "id": "S3BGs_EC7FRq",
        "colab": {
          "base_uri": "https://localhost:8080/"
        },
        "outputId": "c9966ecd-479a-4a6b-99c4-a7a4252bdef5"
      },
      "source": [
        "# fit model\n",
        "filename = 'My_Translation_HI_EN_Model.h5'\n",
        "checkpoint = ModelCheckpoint(filename, monitor = 'val_loss', verbose = 1, save_best_only = True, mode = 'min')\n",
        "model.fit(trainX, trainy, epochs = 30, batch_size = 200, validation_data = (testX, testy), callbacks = [checkpoint], verbose = 2)"
      ],
      "execution_count": null,
      "outputs": [
        {
          "output_type": "stream",
          "name": "stdout",
          "text": [
            "Epoch 1/30\n",
            "35/35 - 14s - loss: 2.7307 - val_loss: 0.9514\n",
            "\n",
            "Epoch 00001: val_loss improved from inf to 0.95137, saving model to My_Translation_HI_EN_Model.h5\n",
            "Epoch 2/30\n",
            "35/35 - 3s - loss: 0.9081 - val_loss: 0.8813\n",
            "\n",
            "Epoch 00002: val_loss improved from 0.95137 to 0.88134, saving model to My_Translation_HI_EN_Model.h5\n",
            "Epoch 3/30\n",
            "35/35 - 3s - loss: 0.8158 - val_loss: 0.7621\n",
            "\n",
            "Epoch 00003: val_loss improved from 0.88134 to 0.76206, saving model to My_Translation_HI_EN_Model.h5\n",
            "Epoch 4/30\n",
            "35/35 - 2s - loss: 0.7612 - val_loss: 0.7436\n",
            "\n",
            "Epoch 00004: val_loss improved from 0.76206 to 0.74362, saving model to My_Translation_HI_EN_Model.h5\n",
            "Epoch 5/30\n",
            "35/35 - 3s - loss: 0.7509 - val_loss: 0.7463\n",
            "\n",
            "Epoch 00005: val_loss did not improve from 0.74362\n",
            "Epoch 6/30\n",
            "35/35 - 2s - loss: 0.7468 - val_loss: 0.7769\n",
            "\n",
            "Epoch 00006: val_loss did not improve from 0.74362\n",
            "Epoch 7/30\n",
            "35/35 - 3s - loss: 0.8099 - val_loss: 0.8331\n",
            "\n",
            "Epoch 00007: val_loss did not improve from 0.74362\n",
            "Epoch 8/30\n",
            "35/35 - 3s - loss: 0.8045 - val_loss: 0.8250\n",
            "\n",
            "Epoch 00008: val_loss did not improve from 0.74362\n",
            "Epoch 9/30\n",
            "35/35 - 3s - loss: 0.7914 - val_loss: 0.8156\n",
            "\n",
            "Epoch 00009: val_loss did not improve from 0.74362\n",
            "Epoch 10/30\n",
            "35/35 - 2s - loss: 0.7771 - val_loss: 0.8038\n",
            "\n",
            "Epoch 00010: val_loss did not improve from 0.74362\n",
            "Epoch 11/30\n",
            "35/35 - 2s - loss: 0.7563 - val_loss: 0.7952\n",
            "\n",
            "Epoch 00011: val_loss did not improve from 0.74362\n",
            "Epoch 12/30\n",
            "35/35 - 3s - loss: 0.7444 - val_loss: 0.7752\n",
            "\n",
            "Epoch 00012: val_loss did not improve from 0.74362\n",
            "Epoch 13/30\n",
            "35/35 - 2s - loss: 0.7507 - val_loss: 0.7934\n",
            "\n",
            "Epoch 00013: val_loss did not improve from 0.74362\n",
            "Epoch 14/30\n",
            "35/35 - 3s - loss: 0.7456 - val_loss: 0.7763\n",
            "\n",
            "Epoch 00014: val_loss did not improve from 0.74362\n",
            "Epoch 15/30\n",
            "35/35 - 3s - loss: 0.7196 - val_loss: 0.7374\n",
            "\n",
            "Epoch 00015: val_loss improved from 0.74362 to 0.73737, saving model to My_Translation_HI_EN_Model.h5\n",
            "Epoch 16/30\n",
            "35/35 - 2s - loss: 0.6884 - val_loss: 0.7145\n",
            "\n",
            "Epoch 00016: val_loss improved from 0.73737 to 0.71446, saving model to My_Translation_HI_EN_Model.h5\n",
            "Epoch 17/30\n",
            "35/35 - 2s - loss: 0.6641 - val_loss: 0.6807\n",
            "\n",
            "Epoch 00017: val_loss improved from 0.71446 to 0.68069, saving model to My_Translation_HI_EN_Model.h5\n",
            "Epoch 18/30\n",
            "35/35 - 3s - loss: 0.6284 - val_loss: 0.6478\n",
            "\n",
            "Epoch 00018: val_loss improved from 0.68069 to 0.64776, saving model to My_Translation_HI_EN_Model.h5\n",
            "Epoch 19/30\n",
            "35/35 - 3s - loss: 0.5970 - val_loss: 0.6189\n",
            "\n",
            "Epoch 00019: val_loss improved from 0.64776 to 0.61886, saving model to My_Translation_HI_EN_Model.h5\n",
            "Epoch 20/30\n",
            "35/35 - 3s - loss: 0.5703 - val_loss: 0.5914\n",
            "\n",
            "Epoch 00020: val_loss improved from 0.61886 to 0.59140, saving model to My_Translation_HI_EN_Model.h5\n",
            "Epoch 21/30\n",
            "35/35 - 3s - loss: 0.5494 - val_loss: 0.5717\n",
            "\n",
            "Epoch 00021: val_loss improved from 0.59140 to 0.57165, saving model to My_Translation_HI_EN_Model.h5\n",
            "Epoch 22/30\n",
            "35/35 - 2s - loss: 0.5323 - val_loss: 0.5565\n",
            "\n",
            "Epoch 00022: val_loss improved from 0.57165 to 0.55653, saving model to My_Translation_HI_EN_Model.h5\n",
            "Epoch 23/30\n",
            "35/35 - 3s - loss: 0.5179 - val_loss: 0.5443\n",
            "\n",
            "Epoch 00023: val_loss improved from 0.55653 to 0.54427, saving model to My_Translation_HI_EN_Model.h5\n",
            "Epoch 24/30\n",
            "35/35 - 2s - loss: 0.5075 - val_loss: 0.5385\n",
            "\n",
            "Epoch 00024: val_loss improved from 0.54427 to 0.53854, saving model to My_Translation_HI_EN_Model.h5\n",
            "Epoch 25/30\n",
            "35/35 - 2s - loss: 0.4976 - val_loss: 0.5251\n",
            "\n",
            "Epoch 00025: val_loss improved from 0.53854 to 0.52512, saving model to My_Translation_HI_EN_Model.h5\n",
            "Epoch 26/30\n",
            "35/35 - 3s - loss: 0.4864 - val_loss: 0.5154\n",
            "\n",
            "Epoch 00026: val_loss improved from 0.52512 to 0.51543, saving model to My_Translation_HI_EN_Model.h5\n",
            "Epoch 27/30\n",
            "35/35 - 2s - loss: 0.4768 - val_loss: 0.5089\n",
            "\n",
            "Epoch 00027: val_loss improved from 0.51543 to 0.50887, saving model to My_Translation_HI_EN_Model.h5\n",
            "Epoch 28/30\n",
            "35/35 - 2s - loss: 0.4671 - val_loss: 0.4993\n",
            "\n",
            "Epoch 00028: val_loss improved from 0.50887 to 0.49930, saving model to My_Translation_HI_EN_Model.h5\n",
            "Epoch 29/30\n",
            "35/35 - 2s - loss: 0.4582 - val_loss: 0.4927\n",
            "\n",
            "Epoch 00029: val_loss improved from 0.49930 to 0.49273, saving model to My_Translation_HI_EN_Model.h5\n",
            "Epoch 30/30\n",
            "35/35 - 3s - loss: 0.4511 - val_loss: 0.4890\n",
            "\n",
            "Epoch 00030: val_loss improved from 0.49273 to 0.48899, saving model to My_Translation_HI_EN_Model.h5\n"
          ]
        },
        {
          "output_type": "execute_result",
          "data": {
            "text/plain": [
              "<keras.callbacks.History at 0x7f14b36150d0>"
            ]
          },
          "metadata": {},
          "execution_count": 33
        }
      ]
    },
    {
      "cell_type": "markdown",
      "metadata": {
        "id": "dcgE7m0DKawt"
      },
      "source": [
        "## Predicting text"
      ]
    },
    {
      "cell_type": "code",
      "metadata": {
        "id": "_mRPm1FIKgOx"
      },
      "source": [
        "translation = model.predict(testX[:10])"
      ],
      "execution_count": null,
      "outputs": []
    },
    {
      "cell_type": "code",
      "metadata": {
        "id": "MFIPrf-NLeoU",
        "colab": {
          "base_uri": "https://localhost:8080/"
        },
        "outputId": "c5c6e928-5cf3-412b-cb6b-5f85f5e32600"
      },
      "source": [
        "translation"
      ],
      "execution_count": null,
      "outputs": [
        {
          "output_type": "execute_result",
          "data": {
            "text/plain": [
              "array([[[1.54010158e-05, 4.99894395e-02, 2.42984243e-04, ...,\n",
              "         1.46267077e-04, 2.14893240e-04, 1.67450107e-05],\n",
              "        [4.16989875e-04, 3.87149639e-02, 3.99547117e-03, ...,\n",
              "         1.18469807e-05, 4.04136554e-05, 2.94923916e-06],\n",
              "        [3.93045321e-02, 1.22464839e-02, 4.26721526e-03, ...,\n",
              "         1.02990339e-06, 7.36154925e-06, 5.67295842e-07],\n",
              "        ...,\n",
              "        [9.99658704e-01, 3.50821301e-06, 9.94302172e-06, ...,\n",
              "         2.23982139e-12, 4.35673025e-11, 7.24317915e-12],\n",
              "        [9.99658704e-01, 3.50823962e-06, 9.94309812e-06, ...,\n",
              "         2.23980860e-12, 4.35671360e-11, 7.24315182e-12],\n",
              "        [9.99658704e-01, 3.50825303e-06, 9.94311722e-06, ...,\n",
              "         2.23979559e-12, 4.35669729e-11, 7.24312407e-12]],\n",
              "\n",
              "       [[8.48599069e-04, 7.75237102e-04, 6.89871740e-05, ...,\n",
              "         9.11770330e-05, 1.37296389e-04, 3.32876843e-05],\n",
              "        [9.32968616e-01, 1.47246701e-05, 4.75552770e-06, ...,\n",
              "         3.54711247e-08, 1.98094284e-07, 3.20827951e-08],\n",
              "        [9.98385906e-01, 9.72614771e-07, 5.90589934e-07, ...,\n",
              "         3.95965205e-11, 6.29551078e-10, 8.33650302e-11],\n",
              "        ...,\n",
              "        [9.99723613e-01, 2.02276988e-06, 7.38273729e-06, ...,\n",
              "         1.67017387e-12, 3.24005649e-11, 6.24115429e-12],\n",
              "        [9.99723613e-01, 2.02276988e-06, 7.38273729e-06, ...,\n",
              "         1.67017387e-12, 3.24005649e-11, 6.24115429e-12],\n",
              "        [9.99723613e-01, 2.02276988e-06, 7.38273729e-06, ...,\n",
              "         1.67017387e-12, 3.24005649e-11, 6.24115429e-12]],\n",
              "\n",
              "       [[2.80829937e-07, 6.07027113e-02, 2.21284397e-04, ...,\n",
              "         5.23427752e-06, 7.75013086e-06, 1.15331829e-06],\n",
              "        [1.19878996e-06, 6.52567625e-01, 8.23189039e-03, ...,\n",
              "         1.37195605e-06, 3.15866191e-06, 3.94366282e-07],\n",
              "        [5.49996275e-06, 4.08015549e-01, 1.19822584e-01, ...,\n",
              "         5.59483624e-07, 1.84474811e-06, 2.77687008e-07],\n",
              "        ...,\n",
              "        [9.99356925e-01, 9.86538635e-06, 3.05547037e-05, ...,\n",
              "         6.44654035e-12, 1.10507457e-10, 1.71228379e-11],\n",
              "        [9.99360144e-01, 9.77207037e-06, 3.03276374e-05, ...,\n",
              "         6.39702831e-12, 1.09554803e-10, 1.70335430e-11],\n",
              "        [9.99362648e-01, 9.69527900e-06, 3.01435448e-05, ...,\n",
              "         6.35659060e-12, 1.08768258e-10, 1.69616769e-11]],\n",
              "\n",
              "       ...,\n",
              "\n",
              "       [[4.86714125e-05, 1.46644213e-03, 2.12735340e-05, ...,\n",
              "         2.40983631e-04, 1.45550104e-04, 2.73031255e-05],\n",
              "        [1.92745905e-02, 2.61562061e-04, 2.53448652e-05, ...,\n",
              "         2.37252043e-05, 2.14323827e-05, 4.11602559e-06],\n",
              "        [8.01692963e-01, 1.28777301e-05, 2.75311231e-06, ...,\n",
              "         1.81179558e-07, 4.39053963e-07, 6.21970173e-08],\n",
              "        ...,\n",
              "        [9.99583304e-01, 1.54049815e-06, 1.81373139e-06, ...,\n",
              "         3.19564666e-12, 6.09358605e-11, 9.28338482e-12],\n",
              "        [9.99583781e-01, 1.54368126e-06, 1.81457494e-06, ...,\n",
              "         3.19236456e-12, 6.07675923e-11, 9.26177798e-12],\n",
              "        [9.99584138e-01, 1.54644613e-06, 1.81530243e-06, ...,\n",
              "         3.18966945e-12, 6.06233674e-11, 9.24309154e-12]],\n",
              "\n",
              "       [[3.45771143e-04, 7.99434143e-04, 4.14013848e-05, ...,\n",
              "         1.62468437e-04, 1.60128388e-04, 3.87949076e-05],\n",
              "        [7.14998603e-01, 2.99184612e-05, 1.03967932e-05, ...,\n",
              "         5.50488835e-07, 1.53690348e-06, 2.82885395e-07],\n",
              "        [9.94732261e-01, 8.43463283e-07, 5.21331344e-07, ...,\n",
              "         2.97389002e-10, 3.20250026e-09, 3.87144067e-10],\n",
              "        ...,\n",
              "        [9.99717414e-01, 2.10159442e-06, 7.49549145e-06, ...,\n",
              "         1.74027654e-12, 3.37208803e-11, 6.45200299e-12],\n",
              "        [9.99717414e-01, 2.10159828e-06, 7.49549872e-06, ...,\n",
              "         1.74027654e-12, 3.37208178e-11, 6.45199085e-12],\n",
              "        [9.99717414e-01, 2.10160238e-06, 7.49550554e-06, ...,\n",
              "         1.74027654e-12, 3.37207519e-11, 6.45199085e-12]],\n",
              "\n",
              "       [[3.87965213e-03, 2.14991247e-04, 7.70134211e-05, ...,\n",
              "         2.59161297e-05, 5.26672047e-05, 1.87354217e-05],\n",
              "        [9.65534389e-01, 5.42692351e-06, 2.80636073e-06, ...,\n",
              "         7.36319716e-09, 5.08364479e-08, 1.10991634e-08],\n",
              "        [9.98977184e-01, 9.47957062e-07, 1.09930761e-06, ...,\n",
              "         2.29752831e-11, 3.13692017e-10, 5.54488781e-11],\n",
              "        ...,\n",
              "        [9.99725401e-01, 1.86933107e-06, 7.14515318e-06, ...,\n",
              "         1.63871651e-12, 3.19602955e-11, 6.30835401e-12],\n",
              "        [9.99725401e-01, 1.86933107e-06, 7.14515318e-06, ...,\n",
              "         1.63871651e-12, 3.19602955e-11, 6.30835401e-12],\n",
              "        [9.99725401e-01, 1.86933107e-06, 7.14515318e-06, ...,\n",
              "         1.63871651e-12, 3.19602955e-11, 6.30835401e-12]]], dtype=float32)"
            ]
          },
          "metadata": {},
          "execution_count": 35
        }
      ]
    },
    {
      "cell_type": "code",
      "metadata": {
        "id": "5r3PWlrv7_gy"
      },
      "source": [
        "def get_words(n, tokenizer):\n",
        "  for word, index in tokenizer.word_index.items():\n",
        "    if index == n:\n",
        "      return word\n",
        "  return None"
      ],
      "execution_count": null,
      "outputs": []
    },
    {
      "cell_type": "code",
      "metadata": {
        "id": "ffb27Gb5D27Y"
      },
      "source": [
        "# generate target given source sequence\n",
        "def predict_sequence(model, tokenizer, source):\n",
        "\n",
        "  prediction = model.predict(source, verbose = 0)[0]\n",
        "  integers = [np.argmax(vector) for vector in prediction]\n",
        "  \n",
        "  target = list()\n",
        "  for i in integers:\n",
        "    word = get_words(i, tokenizer)\n",
        "    if word is None:\n",
        "      break\n",
        "    target.append(word)\n",
        "  return ' '.join(target)"
      ],
      "execution_count": null,
      "outputs": []
    },
    {
      "cell_type": "markdown",
      "metadata": {
        "id": "Din9_oihO9Bk"
      },
      "source": [
        "## Checking predictions"
      ]
    },
    {
      "cell_type": "code",
      "metadata": {
        "id": "bhyvz3OQOeJ6"
      },
      "source": [
        "def eval_model(model, tokenizer, sources, raw_dataset):\n",
        "  actual, predicted = list(), list()\n",
        "  tar=list(raw_dataset.english)\n",
        "  src=list(raw_dataset.hindi)\n",
        "  for i, source in enumerate(sources):\n",
        "    # translate ecoded source text\n",
        "    # print(i,type(i))\n",
        "    source = source.reshape((1, source.shape[0]))\n",
        "    translation = predict_sequence(model, tokenizer, source)\n",
        "    # print(tar[:1])\n",
        "    raw_target = tar[i]\n",
        "    raw_src = src[i]\n",
        "    # print(raw_target,'****',raw_src)\n",
        "    if i<10:\n",
        "      print('src=[%s], target=[%s], predicted=[%s]' % (raw_src, raw_target, translation))\n",
        "      sss=str(raw_target)\n",
        "      actual.append([sss.split()])\n",
        "      predicted.append(translation.split())\n",
        "  \n",
        "  # dataframe\n",
        "  df = pd.DataFrame({'actual' : actual, 'predicted' : predicted})\n",
        "  df.head(10)\n",
        "  # calculate BLEU score\n",
        "  print('BLEU-1 : %f' % corpus_bleu(actual, predicted, weights = (1.0,0,0,0)))\n",
        "  print('BLEU-2 : %f' % corpus_bleu(actual, predicted, weights = (0.5,0.5,0,0)))\n",
        "  print('BLEU-3 : %f' % corpus_bleu(actual, predicted, weights = (0.3,0.3,0.3,0)))\n",
        "  print('BLEU-4 : %f' % corpus_bleu(actual, predicted, weights = (0.25,0.25,0.25,0.25)))"
      ],
      "execution_count": null,
      "outputs": []
    },
    {
      "cell_type": "code",
      "metadata": {
        "id": "7xUleYWYPUo-",
        "colab": {
          "base_uri": "https://localhost:8080/"
        },
        "outputId": "c1f36ee3-a3cf-48d2-ca36-5a0c3b1e720a"
      },
      "source": [
        "eval_model(model, eng_tokenizer, trainX, train)"
      ],
      "execution_count": null,
      "outputs": [
        {
          "output_type": "stream",
          "name": "stdout",
          "text": [
            "src=[ईंट का दहला], target=[ten of diamonds], predicted=[the of of]\n",
            "src=[सांख्यिकी% id% d], target=[statistics], predicted=[add]\n",
            "src=[पूर्ण], target=[completed], predicted=[]\n",
            "src=[ईंट का बादशाह हटाएँ.], target=[remove the nine of diamonds.], predicted=[remove the the of of]\n",
            "src=[% d% d \"in this string this to\"% id% d% d%%%%% \"(u + 0025 percent sign) you do not need to escape it with another\"%], target=[% d], predicted=[]\n",
            "src=[एस्लेरियॉट], target=[aisleriot], predicted=[name]\n",
            "src=[अवधि को हाइलाइट रकें], target=[highlight duration], predicted=[select project]\n",
            "src=[ओफसेट], target=[offset], predicted=[path]\n",
            "src=[purge items after% d days], target=[purge items after], predicted=[select file project]\n",
            "src=[चिड़ी का दहला हटाएँ.], target=[remove the two of clubs.], predicted=[remove the the of of]\n",
            "BLEU-1 : 0.263832\n",
            "BLEU-2 : 0.159412\n",
            "BLEU-3 : 0.313831\n",
            "BLEU-4 : 0.371740\n"
          ]
        },
        {
          "output_type": "stream",
          "name": "stderr",
          "text": [
            "/usr/local/lib/python3.7/dist-packages/nltk/translate/bleu_score.py:490: UserWarning: \n",
            "Corpus/Sentence contains 0 counts of 3-gram overlaps.\n",
            "BLEU scores might be undesirable; use SmoothingFunction().\n",
            "  warnings.warn(_msg)\n"
          ]
        }
      ]
    },
    {
      "cell_type": "code",
      "metadata": {
        "id": "lvsMoFXRfFku",
        "colab": {
          "base_uri": "https://localhost:8080/"
        },
        "outputId": "7e7fd2d3-77d6-4bda-a244-60ee31153cbc"
      },
      "source": [
        "eval_model(model, eng_tokenizer, testX, test)"
      ],
      "execution_count": null,
      "outputs": [
        {
          "output_type": "stream",
          "name": "stdout",
          "text": [
            "src=[टिप्स (संकेतों) को दिखाएं (_ i)], target=[_ show clipboard], predicted=[deal a card]\n",
            "src=[नया], target=[new], predicted=[edit]\n",
            "src=[ईंट की बेगम के बगल में ईंट के वादशाह को रखें.], target=[place the king of diamonds next to the queen of diamonds.], predicted=[place the the of of next the the the of of]\n",
            "src=[रोमानियन], target=[armenian], predicted=[path]\n",
            "src=[गैप], target=[gaps], predicted=[help]\n",
            "src=[न्यासslot type], target=[five foundations], predicted=[the]\n",
            "src=[परियोजना में जोड़ें], target=[add to project], predicted=[select project]\n",
            "src=[सभी बंद करें], target=[close all files], predicted=[add project]\n",
            "src=[चुनें (_ s)], target=[_ select], predicted=[add]\n",
            "src=[रूपांतरित करें (_ t)], target=[_ transform], predicted=[edit]\n",
            "BLEU-1 : 0.236815\n",
            "BLEU-2 : 0.098051\n",
            "BLEU-3 : 0.228391\n",
            "BLEU-4 : 0.282154\n"
          ]
        },
        {
          "output_type": "stream",
          "name": "stderr",
          "text": [
            "/usr/local/lib/python3.7/dist-packages/nltk/translate/bleu_score.py:490: UserWarning: \n",
            "Corpus/Sentence contains 0 counts of 3-gram overlaps.\n",
            "BLEU scores might be undesirable; use SmoothingFunction().\n",
            "  warnings.warn(_msg)\n"
          ]
        }
      ]
    }
  ]
}